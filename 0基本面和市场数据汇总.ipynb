{
 "cells": [
  {
   "cell_type": "markdown",
   "metadata": {},
   "source": [
    "# Load package and import data \n"
   ]
  },
  {
   "cell_type": "code",
   "execution_count": 1,
   "metadata": {},
   "outputs": [],
   "source": [
    "import pandas as pd\n",
    "import numpy as np\n",
    "import matplotlib.pyplot as plt"
   ]
  },
  {
   "cell_type": "markdown",
   "metadata": {},
   "source": [
    "## 股票数据"
   ]
  },
  {
   "cell_type": "code",
   "execution_count": 2,
   "metadata": {
    "scrolled": false
   },
   "outputs": [],
   "source": [
    "df_price=pd.read_csv('../data/论文阅读题_行情数据.csv')"
   ]
  },
  {
   "cell_type": "code",
   "execution_count": 3,
   "metadata": {},
   "outputs": [],
   "source": [
    "#drop volume and amount \n",
    "df_price=df_price[['Code','Date','PreClose','Open','Close']]\n",
    "#set date as index which type is datetime\n",
    "df_price=df_price.set_index('Date')\n",
    "df_price.index=pd.to_datetime(df_price.index)\n",
    "#we drop data if the open price==0\n",
    "df_price=df_price[df_price.Open!=0]"
   ]
  },
  {
   "cell_type": "markdown",
   "metadata": {},
   "source": [
    "###  Return"
   ]
  },
  {
   "cell_type": "markdown",
   "metadata": {},
   "source": [
    "\n",
    "\n",
    "CTO : daily over night return; \n",
    "DR : daily return; CR: compounded return;\n",
    "\n",
    "$$\n",
    "CTO_{i,t}=\\frac{Open_{i,t}-preClose_{i,t}}{preClose_{i,t}}$\n",
    "\\\\\n",
    "DR_{i,t} = \\frac{Close_{i,t}}{Close_{i,t-1}}-1\n",
    "\\\\\n",
    "CR_{t,t+n} = \\Pi _t^{t+n}(DR_{i,t}+1)=\\frac{Close_{i,t+n}}{Close_{i,t+n-1}}\\frac{Close_{i,t+n-1}}{Close_{i,t+n-2}}...\\frac{Close_{i,t+1}}{Close_{i,t}}=\\frac{Close_{i,t+n}}{Close_{i,t}}\n",
    "$$\n",
    "\n",
    "We are going to calculate weekly total return and weekly overnight return. \n",
    "\n",
    "(1) Weekly total return is the compounded daily return over that week. \n",
    "\n",
    "(2) Weekly overnight return is average daily overnight return during that week , multiply 5. "
   ]
  },
  {
   "cell_type": "markdown",
   "metadata": {},
   "source": [
    "#### Weekly_Total_Return (WTR)"
   ]
  },
  {
   "cell_type": "code",
   "execution_count": 4,
   "metadata": {},
   "outputs": [
    {
     "data": {
      "text/html": [
       "<div>\n",
       "<style scoped>\n",
       "    .dataframe tbody tr th:only-of-type {\n",
       "        vertical-align: middle;\n",
       "    }\n",
       "\n",
       "    .dataframe tbody tr th {\n",
       "        vertical-align: top;\n",
       "    }\n",
       "\n",
       "    .dataframe thead th {\n",
       "        text-align: right;\n",
       "    }\n",
       "</style>\n",
       "<table border=\"1\" class=\"dataframe\">\n",
       "  <thead>\n",
       "    <tr style=\"text-align: right;\">\n",
       "      <th></th>\n",
       "      <th></th>\n",
       "      <th>WTR</th>\n",
       "    </tr>\n",
       "    <tr>\n",
       "      <th>Code</th>\n",
       "      <th>Date</th>\n",
       "      <th></th>\n",
       "    </tr>\n",
       "  </thead>\n",
       "  <tbody>\n",
       "    <tr>\n",
       "      <th rowspan=\"5\" valign=\"top\">000001.SZ</th>\n",
       "      <th>2008-01-08</th>\n",
       "      <td>NaN</td>\n",
       "    </tr>\n",
       "    <tr>\n",
       "      <th>2008-01-15</th>\n",
       "      <td>0.040604</td>\n",
       "    </tr>\n",
       "    <tr>\n",
       "      <th>2008-01-22</th>\n",
       "      <td>-0.148227</td>\n",
       "    </tr>\n",
       "    <tr>\n",
       "      <th>2008-01-29</th>\n",
       "      <td>-0.002235</td>\n",
       "    </tr>\n",
       "    <tr>\n",
       "      <th>2008-02-05</th>\n",
       "      <td>0.044233</td>\n",
       "    </tr>\n",
       "  </tbody>\n",
       "</table>\n",
       "</div>"
      ],
      "text/plain": [
       "                           WTR\n",
       "Code      Date                \n",
       "000001.SZ 2008-01-08       NaN\n",
       "          2008-01-15  0.040604\n",
       "          2008-01-22 -0.148227\n",
       "          2008-01-29 -0.002235\n",
       "          2008-02-05  0.044233"
      ]
     },
     "metadata": {},
     "output_type": "display_data"
    }
   ],
   "source": [
    " #frequencey: day->week (last Wednesday to this Tuesday)\n",
    "df_wtr=pd.DataFrame(df_price.groupby('Code').Close.resample('W-TUE').last())\n",
    "#calculate weekly total return : close_last_week/close_this_week-1\n",
    "df_wtr['WTR']=df_wtr.Close/df_wtr.groupby(level=0).Close.shift(1)-1 \n",
    "df_wtr.drop('Close',axis=1,inplace=True) \n",
    "display(df_wtr.head())"
   ]
  },
  {
   "cell_type": "markdown",
   "metadata": {},
   "source": [
    "#### Weekly_Overnight_Return(WOR)"
   ]
  },
  {
   "cell_type": "code",
   "execution_count": 5,
   "metadata": {},
   "outputs": [],
   "source": [
    "#calculate CTO=Open\\PreClose-1\n",
    "df_wor=df_price[['Code','PreClose','Open']]\n",
    "df_wor['CTO']=(df_wor['Open']-df_wor['PreClose'])/df_wor['PreClose']\n",
    "df_wor=df_wor[['Code','CTO']]"
   ]
  },
  {
   "cell_type": "code",
   "execution_count": 6,
   "metadata": {},
   "outputs": [],
   "source": [
    "#以礼拜二为分界点，划分每周。每只股票每周的隔夜收益率平均数*5\n",
    "#df_wor.groupby('Code').CTO.resample('W-TUE').mean() 结果一样，用grouper 速度稍微快一点\n",
    "df_wor=pd.DataFrame(df_wor.groupby(['Code', pd.Grouper(level=0, freq='W-TUE')])['CTO'].mean()*5)\n",
    "df_wor.rename(columns={'CTO':'WOR'},inplace=True)"
   ]
  },
  {
   "cell_type": "code",
   "execution_count": 7,
   "metadata": {
    "scrolled": true
   },
   "outputs": [
    {
     "data": {
      "text/html": [
       "<div>\n",
       "<style scoped>\n",
       "    .dataframe tbody tr th:only-of-type {\n",
       "        vertical-align: middle;\n",
       "    }\n",
       "\n",
       "    .dataframe tbody tr th {\n",
       "        vertical-align: top;\n",
       "    }\n",
       "\n",
       "    .dataframe thead th {\n",
       "        text-align: right;\n",
       "    }\n",
       "</style>\n",
       "<table border=\"1\" class=\"dataframe\">\n",
       "  <thead>\n",
       "    <tr style=\"text-align: right;\">\n",
       "      <th></th>\n",
       "      <th>Code</th>\n",
       "      <th>Date</th>\n",
       "      <th>WOR</th>\n",
       "      <th>WTR</th>\n",
       "    </tr>\n",
       "  </thead>\n",
       "  <tbody>\n",
       "    <tr>\n",
       "      <th>0</th>\n",
       "      <td>000001.SZ</td>\n",
       "      <td>2008-01-08</td>\n",
       "      <td>0.000705</td>\n",
       "      <td>NaN</td>\n",
       "    </tr>\n",
       "    <tr>\n",
       "      <th>1</th>\n",
       "      <td>000001.SZ</td>\n",
       "      <td>2008-01-15</td>\n",
       "      <td>0.004541</td>\n",
       "      <td>0.040604</td>\n",
       "    </tr>\n",
       "    <tr>\n",
       "      <th>2</th>\n",
       "      <td>000001.SZ</td>\n",
       "      <td>2008-01-22</td>\n",
       "      <td>-0.058696</td>\n",
       "      <td>-0.148227</td>\n",
       "    </tr>\n",
       "    <tr>\n",
       "      <th>3</th>\n",
       "      <td>000001.SZ</td>\n",
       "      <td>2008-01-29</td>\n",
       "      <td>0.032049</td>\n",
       "      <td>-0.002235</td>\n",
       "    </tr>\n",
       "    <tr>\n",
       "      <th>4</th>\n",
       "      <td>000001.SZ</td>\n",
       "      <td>2008-02-05</td>\n",
       "      <td>0.068942</td>\n",
       "      <td>0.044233</td>\n",
       "    </tr>\n",
       "  </tbody>\n",
       "</table>\n",
       "</div>"
      ],
      "text/plain": [
       "        Code       Date       WOR       WTR\n",
       "0  000001.SZ 2008-01-08  0.000705       NaN\n",
       "1  000001.SZ 2008-01-15  0.004541  0.040604\n",
       "2  000001.SZ 2008-01-22 -0.058696 -0.148227\n",
       "3  000001.SZ 2008-01-29  0.032049 -0.002235\n",
       "4  000001.SZ 2008-02-05  0.068942  0.044233"
      ]
     },
     "metadata": {},
     "output_type": "display_data"
    }
   ],
   "source": [
    "#merge weekly overnight return and weekly total return \n",
    "df_m=pd.concat([df_wor,df_wtr], axis=1)\n",
    "df_m.reset_index(inplace=True)\n",
    "display(df_m.head())"
   ]
  },
  {
   "cell_type": "markdown",
   "metadata": {},
   "source": [
    "### Volatility (df_return_vol)"
   ]
  },
  {
   "cell_type": "markdown",
   "metadata": {},
   "source": [
    "Volatility is the standard deviation of the stock monthly return over months t-12 to thourgh t-2."
   ]
  },
  {
   "cell_type": "code",
   "execution_count": 8,
   "metadata": {
    "scrolled": true
   },
   "outputs": [
    {
     "data": {
      "text/html": [
       "<div>\n",
       "<style scoped>\n",
       "    .dataframe tbody tr th:only-of-type {\n",
       "        vertical-align: middle;\n",
       "    }\n",
       "\n",
       "    .dataframe tbody tr th {\n",
       "        vertical-align: top;\n",
       "    }\n",
       "\n",
       "    .dataframe thead th {\n",
       "        text-align: right;\n",
       "    }\n",
       "</style>\n",
       "<table border=\"1\" class=\"dataframe\">\n",
       "  <thead>\n",
       "    <tr style=\"text-align: right;\">\n",
       "      <th></th>\n",
       "      <th>Code</th>\n",
       "      <th>Date</th>\n",
       "      <th>Vol</th>\n",
       "    </tr>\n",
       "  </thead>\n",
       "  <tbody>\n",
       "    <tr>\n",
       "      <th>0</th>\n",
       "      <td>000001.SZ</td>\n",
       "      <td>2009-03-03</td>\n",
       "      <td>0.184922</td>\n",
       "    </tr>\n",
       "    <tr>\n",
       "      <th>1</th>\n",
       "      <td>000001.SZ</td>\n",
       "      <td>2009-03-10</td>\n",
       "      <td>0.184922</td>\n",
       "    </tr>\n",
       "    <tr>\n",
       "      <th>2</th>\n",
       "      <td>000001.SZ</td>\n",
       "      <td>2009-03-17</td>\n",
       "      <td>0.184922</td>\n",
       "    </tr>\n",
       "    <tr>\n",
       "      <th>3</th>\n",
       "      <td>000001.SZ</td>\n",
       "      <td>2009-03-24</td>\n",
       "      <td>0.184922</td>\n",
       "    </tr>\n",
       "    <tr>\n",
       "      <th>4</th>\n",
       "      <td>000001.SZ</td>\n",
       "      <td>2009-03-31</td>\n",
       "      <td>0.184922</td>\n",
       "    </tr>\n",
       "  </tbody>\n",
       "</table>\n",
       "</div>"
      ],
      "text/plain": [
       "        Code       Date       Vol\n",
       "0  000001.SZ 2009-03-03  0.184922\n",
       "1  000001.SZ 2009-03-10  0.184922\n",
       "2  000001.SZ 2009-03-17  0.184922\n",
       "3  000001.SZ 2009-03-24  0.184922\n",
       "4  000001.SZ 2009-03-31  0.184922"
      ]
     },
     "metadata": {},
     "output_type": "display_data"
    }
   ],
   "source": [
    "#calculate monthly return \n",
    "df_price_m=pd.DataFrame(df_price.groupby(['Code', pd.Grouper(level=0, freq='BM')])['Close'].last())\n",
    "df_price_m['M_Ret']=df_price_m.Close/df_price_m.groupby('Code').Close.shift(1)-1 #calculate monthly return \n",
    "\n",
    "# rolling window 12, 计算前十个收益率的标准差\n",
    "def volatility(x):\n",
    "    return x[:11].std()\n",
    "    \n",
    "df_price_m['Vol']=(df_price_m.M_Ret.groupby(level=0).rolling(13).apply(volatility,raw=True)).values\n",
    "df_return_vol=df_price_m[['Vol']].dropna().reset_index()\n",
    "\n",
    "#frequency: monthly->weekly\n",
    "df_return_vol=df_return_vol.set_index('Date').groupby('Code').resample('W-TUE').bfill()\n",
    "df_return_vol=df_return_vol.drop('Code',axis=1).reset_index()\n",
    "display(df_return_vol.head())"
   ]
  },
  {
   "cell_type": "markdown",
   "metadata": {},
   "source": [
    "### Size (df_size_m)"
   ]
  },
  {
   "cell_type": "markdown",
   "metadata": {},
   "source": [
    "Size is defined as market value of the firm as of the end of the prior fiscal quater"
   ]
  },
  {
   "cell_type": "code",
   "execution_count": 9,
   "metadata": {},
   "outputs": [],
   "source": [
    "#read data\n",
    "df_share=pd.read_csv('../data/论文阅读题_股本数据.csv')\n",
    "df_share.drop('TotalShr',axis=1,inplace=True)\n",
    "df_share=df_share.sort_values(by=['Code','Date']).reset_index(drop=True)\n",
    "df_share=df_share.set_index('Date')\n",
    "df_share.index=pd.to_datetime(df_share.index)"
   ]
  },
  {
   "cell_type": "code",
   "execution_count": 10,
   "metadata": {},
   "outputs": [],
   "source": [
    "#price and share at the end of quarter , \n",
    "df_share_q=df_share[df_share.index.is_quarter_end] #share 数据齐全，可以直接用index搜索，但是股票价格不是每天都有\n",
    "df_price_q=pd.DataFrame(df_price.groupby(['Code', pd.Grouper(level=0, freq='BQ')])['Close'].last())"
   ]
  },
  {
   "cell_type": "code",
   "execution_count": 11,
   "metadata": {},
   "outputs": [
    {
     "data": {
      "text/html": [
       "<div>\n",
       "<style scoped>\n",
       "    .dataframe tbody tr th:only-of-type {\n",
       "        vertical-align: middle;\n",
       "    }\n",
       "\n",
       "    .dataframe tbody tr th {\n",
       "        vertical-align: top;\n",
       "    }\n",
       "\n",
       "    .dataframe thead th {\n",
       "        text-align: right;\n",
       "    }\n",
       "</style>\n",
       "<table border=\"1\" class=\"dataframe\">\n",
       "  <thead>\n",
       "    <tr style=\"text-align: right;\">\n",
       "      <th></th>\n",
       "      <th>Code</th>\n",
       "      <th>Date</th>\n",
       "      <th>Close</th>\n",
       "      <th>OutStdShr</th>\n",
       "      <th>Size</th>\n",
       "    </tr>\n",
       "  </thead>\n",
       "  <tbody>\n",
       "    <tr>\n",
       "      <th>0</th>\n",
       "      <td>000001.SZ</td>\n",
       "      <td>2008-03-31</td>\n",
       "      <td>28.20</td>\n",
       "      <td>175682.0549</td>\n",
       "      <td>4.954234e+06</td>\n",
       "    </tr>\n",
       "    <tr>\n",
       "      <th>1</th>\n",
       "      <td>000001.SZ</td>\n",
       "      <td>2008-06-30</td>\n",
       "      <td>19.33</td>\n",
       "      <td>204652.0536</td>\n",
       "      <td>3.955924e+06</td>\n",
       "    </tr>\n",
       "    <tr>\n",
       "      <th>2</th>\n",
       "      <td>000001.SZ</td>\n",
       "      <td>2008-09-30</td>\n",
       "      <td>14.99</td>\n",
       "      <td>214200.4409</td>\n",
       "      <td>3.210865e+06</td>\n",
       "    </tr>\n",
       "    <tr>\n",
       "      <th>3</th>\n",
       "      <td>000001.SZ</td>\n",
       "      <td>2008-12-31</td>\n",
       "      <td>9.46</td>\n",
       "      <td>278460.5731</td>\n",
       "      <td>2.634237e+06</td>\n",
       "    </tr>\n",
       "    <tr>\n",
       "      <th>4</th>\n",
       "      <td>000001.SZ</td>\n",
       "      <td>2009-03-31</td>\n",
       "      <td>15.94</td>\n",
       "      <td>278460.5731</td>\n",
       "      <td>4.438662e+06</td>\n",
       "    </tr>\n",
       "  </tbody>\n",
       "</table>\n",
       "</div>"
      ],
      "text/plain": [
       "        Code       Date  Close    OutStdShr          Size\n",
       "0  000001.SZ 2008-03-31  28.20  175682.0549  4.954234e+06\n",
       "1  000001.SZ 2008-06-30  19.33  204652.0536  3.955924e+06\n",
       "2  000001.SZ 2008-09-30  14.99  214200.4409  3.210865e+06\n",
       "3  000001.SZ 2008-12-31   9.46  278460.5731  2.634237e+06\n",
       "4  000001.SZ 2009-03-31  15.94  278460.5731  4.438662e+06"
      ]
     },
     "execution_count": 11,
     "metadata": {},
     "output_type": "execute_result"
    }
   ],
   "source": [
    "#merge df of share and price to calculate market value\n",
    "a=df_price_q.reset_index()\n",
    "b=df_share_q.reset_index()\n",
    "df_size=a.merge(b)\n",
    "df_size['Size']=df_size.OutStdShr*df_size.Close\n",
    "df_size.head()"
   ]
  },
  {
   "cell_type": "markdown",
   "metadata": {},
   "source": [
    "需要注意的是，这里用了这个季度末的价格和股票数计算的市场价值，size需要用上个季度末的数据，所以在将季度数据变成周数据时候，用ffill()"
   ]
  },
  {
   "cell_type": "code",
   "execution_count": 12,
   "metadata": {},
   "outputs": [
    {
     "data": {
      "text/html": [
       "<div>\n",
       "<style scoped>\n",
       "    .dataframe tbody tr th:only-of-type {\n",
       "        vertical-align: middle;\n",
       "    }\n",
       "\n",
       "    .dataframe tbody tr th {\n",
       "        vertical-align: top;\n",
       "    }\n",
       "\n",
       "    .dataframe thead th {\n",
       "        text-align: right;\n",
       "    }\n",
       "</style>\n",
       "<table border=\"1\" class=\"dataframe\">\n",
       "  <thead>\n",
       "    <tr style=\"text-align: right;\">\n",
       "      <th></th>\n",
       "      <th>Code</th>\n",
       "      <th>Date</th>\n",
       "      <th>Size</th>\n",
       "    </tr>\n",
       "  </thead>\n",
       "  <tbody>\n",
       "    <tr>\n",
       "      <th>0</th>\n",
       "      <td>000001.SZ</td>\n",
       "      <td>2008-04-01</td>\n",
       "      <td>4.954234e+06</td>\n",
       "    </tr>\n",
       "    <tr>\n",
       "      <th>1</th>\n",
       "      <td>000001.SZ</td>\n",
       "      <td>2008-04-08</td>\n",
       "      <td>4.954234e+06</td>\n",
       "    </tr>\n",
       "    <tr>\n",
       "      <th>2</th>\n",
       "      <td>000001.SZ</td>\n",
       "      <td>2008-04-15</td>\n",
       "      <td>4.954234e+06</td>\n",
       "    </tr>\n",
       "    <tr>\n",
       "      <th>3</th>\n",
       "      <td>000001.SZ</td>\n",
       "      <td>2008-04-22</td>\n",
       "      <td>4.954234e+06</td>\n",
       "    </tr>\n",
       "    <tr>\n",
       "      <th>4</th>\n",
       "      <td>000001.SZ</td>\n",
       "      <td>2008-04-29</td>\n",
       "      <td>4.954234e+06</td>\n",
       "    </tr>\n",
       "  </tbody>\n",
       "</table>\n",
       "</div>"
      ],
      "text/plain": [
       "        Code       Date          Size\n",
       "0  000001.SZ 2008-04-01  4.954234e+06\n",
       "1  000001.SZ 2008-04-08  4.954234e+06\n",
       "2  000001.SZ 2008-04-15  4.954234e+06\n",
       "3  000001.SZ 2008-04-22  4.954234e+06\n",
       "4  000001.SZ 2008-04-29  4.954234e+06"
      ]
     },
     "execution_count": 12,
     "metadata": {},
     "output_type": "execute_result"
    }
   ],
   "source": [
    "#frequency: monthly->weekly\n",
    "df_size=df_size.set_index('Date').groupby('Code').resample('W-TUE').ffill()\n",
    "df_size=df_size.drop('Code',axis=1).reset_index()\n",
    "\n",
    "df_size_m=df_size[['Code','Date','Size']]\n",
    "df_size_m.head()"
   ]
  },
  {
   "cell_type": "markdown",
   "metadata": {},
   "source": [
    "### Profitability (df_prof)"
   ]
  },
  {
   "cell_type": "code",
   "execution_count": 13,
   "metadata": {},
   "outputs": [],
   "source": [
    "df_e=pd.read_csv('../data/论文阅读题_利润数据.csv')\n",
    "df_e.drop('AnnDate',axis=1,inplace=True)"
   ]
  },
  {
   "cell_type": "markdown",
   "metadata": {},
   "source": [
    "####  TTM"
   ]
  },
  {
   "cell_type": "markdown",
   "metadata": {},
   "source": [
    "计算TTM，按照半年划分，\n",
    "\n",
    "上半年：TTM= 去年的年报数据，\n",
    "\n",
    "下半年：TTM= 去年的年报-去年6月份中报+今年6月份中报"
   ]
  },
  {
   "cell_type": "code",
   "execution_count": 14,
   "metadata": {},
   "outputs": [],
   "source": [
    "#导入数据\n",
    "df_e=df_e.sort_values(by=['Code','RptPeriod']).reset_index(drop=True)\n",
    "df_e.set_index('RptPeriod',inplace=True)\n",
    "df_e.index = pd.to_datetime(df_e.index)\n",
    "df_e=df_e[(df_e.index.quarter==2) |( df_e.index.quarter==4)] #取年报和中报"
   ]
  },
  {
   "cell_type": "code",
   "execution_count": 15,
   "metadata": {
    "scrolled": true
   },
   "outputs": [],
   "source": [
    "def cal_TTM(x): \n",
    "    #上半年half1用去年年报数据\n",
    "    x['Half1']=x.Earnings.shift(1) \n",
    "    #下半年half2去年的年报-去年6月份中报+今年6月份中报\n",
    "    x['Half2']=x.Earnings.shift(1)+x.Earnings.shift(2)-x.Earnings.shift(3) \n",
    "    #如果是上半年，保留half1\n",
    "    half1=x[x.index.quarter==2].drop('Half2',axis=1).rename(columns={'Half1':'TTM'})\n",
    "    #如果是下半年，保留half2\n",
    "    half2=x[x.index.quarter==4].drop('Half1',axis=1).rename(columns={'Half2':'TTM'})\n",
    "    #合并数据\n",
    "    TTM=pd.concat([half1,half2]).sort_index().fillna(method='ffill')\n",
    "    return TTM\n",
    "df_TTM=df_e.groupby('Code').apply(cal_TTM)\n",
    "#slow"
   ]
  },
  {
   "cell_type": "code",
   "execution_count": 16,
   "metadata": {},
   "outputs": [],
   "source": [
    "df_TTM=df_TTM[['Code','TTM']]\n",
    "df_TTM=df_TTM.groupby('Code').resample('Q').bfill() #halfyear-quater\n",
    "df_TTM=df_TTM.drop('Code',axis=1).dropna().reset_index()"
   ]
  },
  {
   "cell_type": "code",
   "execution_count": 17,
   "metadata": {},
   "outputs": [
    {
     "data": {
      "text/html": [
       "<div>\n",
       "<style scoped>\n",
       "    .dataframe tbody tr th:only-of-type {\n",
       "        vertical-align: middle;\n",
       "    }\n",
       "\n",
       "    .dataframe tbody tr th {\n",
       "        vertical-align: top;\n",
       "    }\n",
       "\n",
       "    .dataframe thead th {\n",
       "        text-align: right;\n",
       "    }\n",
       "</style>\n",
       "<table border=\"1\" class=\"dataframe\">\n",
       "  <thead>\n",
       "    <tr style=\"text-align: right;\">\n",
       "      <th></th>\n",
       "      <th>Code</th>\n",
       "      <th>Date</th>\n",
       "      <th>TTM</th>\n",
       "    </tr>\n",
       "  </thead>\n",
       "  <tbody>\n",
       "    <tr>\n",
       "      <th>0</th>\n",
       "      <td>000001.SZ</td>\n",
       "      <td>2008-03-31</td>\n",
       "      <td>2.607545e+09</td>\n",
       "    </tr>\n",
       "    <tr>\n",
       "      <th>1</th>\n",
       "      <td>000001.SZ</td>\n",
       "      <td>2008-06-30</td>\n",
       "      <td>2.607545e+09</td>\n",
       "    </tr>\n",
       "    <tr>\n",
       "      <th>2</th>\n",
       "      <td>000001.SZ</td>\n",
       "      <td>2008-09-30</td>\n",
       "      <td>2.607545e+09</td>\n",
       "    </tr>\n",
       "    <tr>\n",
       "      <th>3</th>\n",
       "      <td>000001.SZ</td>\n",
       "      <td>2008-12-31</td>\n",
       "      <td>2.607545e+09</td>\n",
       "    </tr>\n",
       "    <tr>\n",
       "      <th>4</th>\n",
       "      <td>000001.SZ</td>\n",
       "      <td>2009-03-31</td>\n",
       "      <td>6.239410e+08</td>\n",
       "    </tr>\n",
       "  </tbody>\n",
       "</table>\n",
       "</div>"
      ],
      "text/plain": [
       "        Code       Date           TTM\n",
       "0  000001.SZ 2008-03-31  2.607545e+09\n",
       "1  000001.SZ 2008-06-30  2.607545e+09\n",
       "2  000001.SZ 2008-09-30  2.607545e+09\n",
       "3  000001.SZ 2008-12-31  2.607545e+09\n",
       "4  000001.SZ 2009-03-31  6.239410e+08"
      ]
     },
     "metadata": {},
     "output_type": "display_data"
    }
   ],
   "source": [
    "df_TTM.rename(columns={'RptPeriod':'Date'},inplace=True)\n",
    "display(df_TTM.head())\n",
    "#表示在2008-03-31这个季度使用的TTM为2.6e+09"
   ]
  },
  {
   "cell_type": "markdown",
   "metadata": {},
   "source": [
    "#### Profitablity"
   ]
  },
  {
   "cell_type": "code",
   "execution_count": 18,
   "metadata": {},
   "outputs": [],
   "source": [
    "#read data \n",
    "df_bkv=pd.read_csv('../data/论文阅读题_权益数据.csv')\n",
    "df_bkv.drop('AnnDate',axis=1,inplace=True)\n",
    "df_bkv.rename(columns={'RptPeriod':'Date'},inplace=True)\n",
    "df_bkv=df_bkv.sort_values(by=['Code','Date']).reset_index(drop=True)\n",
    "df_bkv=df_bkv.set_index('Date')\n",
    "df_bkv.index=pd.to_datetime(df_bkv.index)\n",
    "df_bkv.index=df_bkv.index+pd.DateOffset(months=3)\n"
   ]
  },
  {
   "cell_type": "code",
   "execution_count": 19,
   "metadata": {},
   "outputs": [
    {
     "data": {
      "text/html": [
       "<div>\n",
       "<style scoped>\n",
       "    .dataframe tbody tr th:only-of-type {\n",
       "        vertical-align: middle;\n",
       "    }\n",
       "\n",
       "    .dataframe tbody tr th {\n",
       "        vertical-align: top;\n",
       "    }\n",
       "\n",
       "    .dataframe thead th {\n",
       "        text-align: right;\n",
       "    }\n",
       "</style>\n",
       "<table border=\"1\" class=\"dataframe\">\n",
       "  <thead>\n",
       "    <tr style=\"text-align: right;\">\n",
       "      <th></th>\n",
       "      <th>Code</th>\n",
       "      <th>Date</th>\n",
       "      <th>Profitability</th>\n",
       "    </tr>\n",
       "  </thead>\n",
       "  <tbody>\n",
       "    <tr>\n",
       "      <th>0</th>\n",
       "      <td>000001.SZ</td>\n",
       "      <td>2008-04-01</td>\n",
       "      <td>0.185704</td>\n",
       "    </tr>\n",
       "    <tr>\n",
       "      <th>1</th>\n",
       "      <td>000001.SZ</td>\n",
       "      <td>2008-04-08</td>\n",
       "      <td>0.185704</td>\n",
       "    </tr>\n",
       "    <tr>\n",
       "      <th>2</th>\n",
       "      <td>000001.SZ</td>\n",
       "      <td>2008-04-15</td>\n",
       "      <td>0.185704</td>\n",
       "    </tr>\n",
       "    <tr>\n",
       "      <th>3</th>\n",
       "      <td>000001.SZ</td>\n",
       "      <td>2008-04-22</td>\n",
       "      <td>0.185704</td>\n",
       "    </tr>\n",
       "    <tr>\n",
       "      <th>4</th>\n",
       "      <td>000001.SZ</td>\n",
       "      <td>2008-04-29</td>\n",
       "      <td>0.185704</td>\n",
       "    </tr>\n",
       "  </tbody>\n",
       "</table>\n",
       "</div>"
      ],
      "text/plain": [
       "        Code       Date  Profitability\n",
       "0  000001.SZ 2008-04-01       0.185704\n",
       "1  000001.SZ 2008-04-08       0.185704\n",
       "2  000001.SZ 2008-04-15       0.185704\n",
       "3  000001.SZ 2008-04-22       0.185704\n",
       "4  000001.SZ 2008-04-29       0.185704"
      ]
     },
     "metadata": {},
     "output_type": "display_data"
    }
   ],
   "source": [
    "\n",
    "#删除bkv为0的记录，bkv之后要做分母\n",
    "df_bkv=df_bkv[df_bkv.BookValue!=0].reset_index()\n",
    "\n",
    "#合并TTM，计算profitability\n",
    "df_prof=df_TTM.merge(df_bkv,on=['Date','Code'])\n",
    "df_prof['Profitability']=df_prof.TTM/df_prof.BookValue\n",
    "df_prof_m=df_prof[['Code','Date','Profitability']]\n",
    "\n",
    "#frequency->weekly\n",
    "df_prof_m=df_prof_m.set_index('Date').groupby('Code').resample('W-TUE').bfill() #ffill:bookvalue at the begining of the quater is the bkv of last quater\n",
    "df_prof_m=df_prof_m.drop('Code',axis=1).reset_index()\n",
    "display(df_prof_m.head())\n"
   ]
  },
  {
   "cell_type": "markdown",
   "metadata": {},
   "source": [
    "### Earning to Price Ratio  (df_EPR)"
   ]
  },
  {
   "cell_type": "markdown",
   "metadata": {},
   "source": [
    "EPR (Earning to price ratio) is TTM divided by the close price of the quater."
   ]
  },
  {
   "cell_type": "code",
   "execution_count": 20,
   "metadata": {
    "scrolled": true
   },
   "outputs": [
    {
     "data": {
      "text/html": [
       "<div>\n",
       "<style scoped>\n",
       "    .dataframe tbody tr th:only-of-type {\n",
       "        vertical-align: middle;\n",
       "    }\n",
       "\n",
       "    .dataframe tbody tr th {\n",
       "        vertical-align: top;\n",
       "    }\n",
       "\n",
       "    .dataframe thead th {\n",
       "        text-align: right;\n",
       "    }\n",
       "</style>\n",
       "<table border=\"1\" class=\"dataframe\">\n",
       "  <thead>\n",
       "    <tr style=\"text-align: right;\">\n",
       "      <th></th>\n",
       "      <th>Code</th>\n",
       "      <th>Date</th>\n",
       "      <th>TTM</th>\n",
       "      <th>Close</th>\n",
       "      <th>EPR</th>\n",
       "    </tr>\n",
       "  </thead>\n",
       "  <tbody>\n",
       "    <tr>\n",
       "      <th>0</th>\n",
       "      <td>000001.SZ</td>\n",
       "      <td>2008-03-31</td>\n",
       "      <td>2.607545e+09</td>\n",
       "      <td>28.20</td>\n",
       "      <td>9.246613e+07</td>\n",
       "    </tr>\n",
       "    <tr>\n",
       "      <th>1</th>\n",
       "      <td>000001.SZ</td>\n",
       "      <td>2008-06-30</td>\n",
       "      <td>2.607545e+09</td>\n",
       "      <td>19.33</td>\n",
       "      <td>1.348963e+08</td>\n",
       "    </tr>\n",
       "    <tr>\n",
       "      <th>2</th>\n",
       "      <td>000001.SZ</td>\n",
       "      <td>2008-09-30</td>\n",
       "      <td>2.607545e+09</td>\n",
       "      <td>14.99</td>\n",
       "      <td>1.739523e+08</td>\n",
       "    </tr>\n",
       "    <tr>\n",
       "      <th>3</th>\n",
       "      <td>000001.SZ</td>\n",
       "      <td>2008-12-31</td>\n",
       "      <td>2.607545e+09</td>\n",
       "      <td>9.46</td>\n",
       "      <td>2.756390e+08</td>\n",
       "    </tr>\n",
       "    <tr>\n",
       "      <th>4</th>\n",
       "      <td>000001.SZ</td>\n",
       "      <td>2009-03-31</td>\n",
       "      <td>6.239410e+08</td>\n",
       "      <td>15.94</td>\n",
       "      <td>3.914310e+07</td>\n",
       "    </tr>\n",
       "  </tbody>\n",
       "</table>\n",
       "</div>"
      ],
      "text/plain": [
       "        Code       Date           TTM  Close           EPR\n",
       "0  000001.SZ 2008-03-31  2.607545e+09  28.20  9.246613e+07\n",
       "1  000001.SZ 2008-06-30  2.607545e+09  19.33  1.348963e+08\n",
       "2  000001.SZ 2008-09-30  2.607545e+09  14.99  1.739523e+08\n",
       "3  000001.SZ 2008-12-31  2.607545e+09   9.46  2.756390e+08\n",
       "4  000001.SZ 2009-03-31  6.239410e+08  15.94  3.914310e+07"
      ]
     },
     "metadata": {},
     "output_type": "display_data"
    }
   ],
   "source": [
    "#calculyae EPR\n",
    "df_EPR=df_TTM.merge(df_price_q,on=['Code','Date'])\n",
    "df_EPR['EPR']=df_EPR.TTM/df_EPR.Close\n",
    "display(df_EPR.head())"
   ]
  },
  {
   "cell_type": "code",
   "execution_count": 21,
   "metadata": {},
   "outputs": [
    {
     "data": {
      "text/html": [
       "<div>\n",
       "<style scoped>\n",
       "    .dataframe tbody tr th:only-of-type {\n",
       "        vertical-align: middle;\n",
       "    }\n",
       "\n",
       "    .dataframe tbody tr th {\n",
       "        vertical-align: top;\n",
       "    }\n",
       "\n",
       "    .dataframe thead th {\n",
       "        text-align: right;\n",
       "    }\n",
       "</style>\n",
       "<table border=\"1\" class=\"dataframe\">\n",
       "  <thead>\n",
       "    <tr style=\"text-align: right;\">\n",
       "      <th></th>\n",
       "      <th>Code</th>\n",
       "      <th>Date</th>\n",
       "      <th>EPR</th>\n",
       "    </tr>\n",
       "  </thead>\n",
       "  <tbody>\n",
       "    <tr>\n",
       "      <th>0</th>\n",
       "      <td>000001.SZ</td>\n",
       "      <td>2008-04-01</td>\n",
       "      <td>1.348963e+08</td>\n",
       "    </tr>\n",
       "    <tr>\n",
       "      <th>1</th>\n",
       "      <td>000001.SZ</td>\n",
       "      <td>2008-04-08</td>\n",
       "      <td>1.348963e+08</td>\n",
       "    </tr>\n",
       "    <tr>\n",
       "      <th>2</th>\n",
       "      <td>000001.SZ</td>\n",
       "      <td>2008-04-15</td>\n",
       "      <td>1.348963e+08</td>\n",
       "    </tr>\n",
       "    <tr>\n",
       "      <th>3</th>\n",
       "      <td>000001.SZ</td>\n",
       "      <td>2008-04-22</td>\n",
       "      <td>1.348963e+08</td>\n",
       "    </tr>\n",
       "    <tr>\n",
       "      <th>4</th>\n",
       "      <td>000001.SZ</td>\n",
       "      <td>2008-04-29</td>\n",
       "      <td>1.348963e+08</td>\n",
       "    </tr>\n",
       "  </tbody>\n",
       "</table>\n",
       "</div>"
      ],
      "text/plain": [
       "        Code       Date           EPR\n",
       "0  000001.SZ 2008-04-01  1.348963e+08\n",
       "1  000001.SZ 2008-04-08  1.348963e+08\n",
       "2  000001.SZ 2008-04-15  1.348963e+08\n",
       "3  000001.SZ 2008-04-22  1.348963e+08\n",
       "4  000001.SZ 2008-04-29  1.348963e+08"
      ]
     },
     "execution_count": 21,
     "metadata": {},
     "output_type": "execute_result"
    }
   ],
   "source": [
    "df_EPR_m=df_EPR[['Code','Date','EPR']]\n",
    "\n",
    "#frequency->weekly\n",
    "df_EPR_m=df_EPR_m.set_index('Date').groupby('Code').resample('W-TUE').bfill()\n",
    "df_EPR_m=df_EPR_m.drop('Code',axis=1).reset_index()\n",
    "df_EPR_m.head()"
   ]
  },
  {
   "cell_type": "markdown",
   "metadata": {},
   "source": [
    "## Merge dataframes"
   ]
  },
  {
   "cell_type": "code",
   "execution_count": 22,
   "metadata": {
    "code_folding": []
   },
   "outputs": [
    {
     "data": {
      "text/html": [
       "<div>\n",
       "<style scoped>\n",
       "    .dataframe tbody tr th:only-of-type {\n",
       "        vertical-align: middle;\n",
       "    }\n",
       "\n",
       "    .dataframe tbody tr th {\n",
       "        vertical-align: top;\n",
       "    }\n",
       "\n",
       "    .dataframe thead th {\n",
       "        text-align: right;\n",
       "    }\n",
       "</style>\n",
       "<table border=\"1\" class=\"dataframe\">\n",
       "  <thead>\n",
       "    <tr style=\"text-align: right;\">\n",
       "      <th></th>\n",
       "      <th>Code</th>\n",
       "      <th>Date</th>\n",
       "      <th>WOR</th>\n",
       "      <th>WTR</th>\n",
       "      <th>Vol</th>\n",
       "      <th>Size</th>\n",
       "      <th>Profitability</th>\n",
       "      <th>EPR</th>\n",
       "    </tr>\n",
       "  </thead>\n",
       "  <tbody>\n",
       "    <tr>\n",
       "      <th>0</th>\n",
       "      <td>000001.SZ</td>\n",
       "      <td>2009-03-03</td>\n",
       "      <td>-0.185929</td>\n",
       "      <td>-0.098732</td>\n",
       "      <td>0.184922</td>\n",
       "      <td>2.634237e+06</td>\n",
       "      <td>0.038043</td>\n",
       "      <td>3.914310e+07</td>\n",
       "    </tr>\n",
       "    <tr>\n",
       "      <th>1</th>\n",
       "      <td>000001.SZ</td>\n",
       "      <td>2009-03-10</td>\n",
       "      <td>-0.010132</td>\n",
       "      <td>0.099186</td>\n",
       "      <td>0.184922</td>\n",
       "      <td>2.634237e+06</td>\n",
       "      <td>0.038043</td>\n",
       "      <td>3.914310e+07</td>\n",
       "    </tr>\n",
       "    <tr>\n",
       "      <th>2</th>\n",
       "      <td>000001.SZ</td>\n",
       "      <td>2009-03-17</td>\n",
       "      <td>0.026351</td>\n",
       "      <td>0.070034</td>\n",
       "      <td>0.184922</td>\n",
       "      <td>2.634237e+06</td>\n",
       "      <td>0.038043</td>\n",
       "      <td>3.914310e+07</td>\n",
       "    </tr>\n",
       "    <tr>\n",
       "      <th>3</th>\n",
       "      <td>000001.SZ</td>\n",
       "      <td>2009-03-24</td>\n",
       "      <td>-0.008496</td>\n",
       "      <td>-0.013845</td>\n",
       "      <td>0.184922</td>\n",
       "      <td>2.634237e+06</td>\n",
       "      <td>0.038043</td>\n",
       "      <td>3.914310e+07</td>\n",
       "    </tr>\n",
       "    <tr>\n",
       "      <th>4</th>\n",
       "      <td>000001.SZ</td>\n",
       "      <td>2009-03-31</td>\n",
       "      <td>-0.025068</td>\n",
       "      <td>0.017230</td>\n",
       "      <td>0.184922</td>\n",
       "      <td>4.438662e+06</td>\n",
       "      <td>0.038043</td>\n",
       "      <td>3.914310e+07</td>\n",
       "    </tr>\n",
       "  </tbody>\n",
       "</table>\n",
       "</div>"
      ],
      "text/plain": [
       "        Code       Date       WOR       WTR       Vol          Size  \\\n",
       "0  000001.SZ 2009-03-03 -0.185929 -0.098732  0.184922  2.634237e+06   \n",
       "1  000001.SZ 2009-03-10 -0.010132  0.099186  0.184922  2.634237e+06   \n",
       "2  000001.SZ 2009-03-17  0.026351  0.070034  0.184922  2.634237e+06   \n",
       "3  000001.SZ 2009-03-24 -0.008496 -0.013845  0.184922  2.634237e+06   \n",
       "4  000001.SZ 2009-03-31 -0.025068  0.017230  0.184922  4.438662e+06   \n",
       "\n",
       "   Profitability           EPR  \n",
       "0       0.038043  3.914310e+07  \n",
       "1       0.038043  3.914310e+07  \n",
       "2       0.038043  3.914310e+07  \n",
       "3       0.038043  3.914310e+07  \n",
       "4       0.038043  3.914310e+07  "
      ]
     },
     "metadata": {},
     "output_type": "display_data"
    }
   ],
   "source": [
    "df_list=[df_return_vol,df_size_m,df_prof_m,df_EPR_m]\n",
    "#frequence: quater \n",
    "df_total=df_m.merge(df_return_vol).merge(df_size_m).merge(df_prof_m).merge(df_EPR_m)\n",
    "display(df_total.head())"
   ]
  },
  {
   "cell_type": "code",
   "execution_count": 23,
   "metadata": {
    "scrolled": true
   },
   "outputs": [],
   "source": [
    "#分组\n",
    "def factor(x):\n",
    "    return pd.qcut(x.WOR,10,duplicates='drop',labels=False) #按照WOR分10组，\n",
    "\n",
    "df_total.sort_values(by=['Date','WOR'],inplace=True)\n",
    "group_num=df_total.groupby('Date').apply(factor).values  #每周对股票按照WOR进行分组\n",
    "df_total['Group_Num']=group_num\n",
    "\n"
   ]
  },
  {
   "cell_type": "code",
   "execution_count": 24,
   "metadata": {},
   "outputs": [
    {
     "data": {
      "text/html": [
       "<div>\n",
       "<style scoped>\n",
       "    .dataframe tbody tr th:only-of-type {\n",
       "        vertical-align: middle;\n",
       "    }\n",
       "\n",
       "    .dataframe tbody tr th {\n",
       "        vertical-align: top;\n",
       "    }\n",
       "\n",
       "    .dataframe thead th {\n",
       "        text-align: right;\n",
       "    }\n",
       "</style>\n",
       "<table border=\"1\" class=\"dataframe\">\n",
       "  <thead>\n",
       "    <tr style=\"text-align: right;\">\n",
       "      <th></th>\n",
       "      <th>Date</th>\n",
       "      <th>Group_Num</th>\n",
       "      <th>WOR</th>\n",
       "      <th>WTR</th>\n",
       "      <th>Vol</th>\n",
       "      <th>Size</th>\n",
       "      <th>Profitability</th>\n",
       "      <th>EPR</th>\n",
       "    </tr>\n",
       "  </thead>\n",
       "  <tbody>\n",
       "    <tr>\n",
       "      <th>0</th>\n",
       "      <td>2009-03-03</td>\n",
       "      <td>0.0</td>\n",
       "      <td>-0.135220</td>\n",
       "      <td>-0.120921</td>\n",
       "      <td>0.204262</td>\n",
       "      <td>131349.528804</td>\n",
       "      <td>-0.110475</td>\n",
       "      <td>-3.053734e+07</td>\n",
       "    </tr>\n",
       "    <tr>\n",
       "      <th>1</th>\n",
       "      <td>2009-03-03</td>\n",
       "      <td>1.0</td>\n",
       "      <td>-0.083087</td>\n",
       "      <td>-0.106794</td>\n",
       "      <td>0.205562</td>\n",
       "      <td>113700.138073</td>\n",
       "      <td>-0.003398</td>\n",
       "      <td>-6.355348e+06</td>\n",
       "    </tr>\n",
       "    <tr>\n",
       "      <th>2</th>\n",
       "      <td>2009-03-03</td>\n",
       "      <td>2.0</td>\n",
       "      <td>-0.065233</td>\n",
       "      <td>-0.102034</td>\n",
       "      <td>0.208262</td>\n",
       "      <td>169216.810481</td>\n",
       "      <td>-0.108082</td>\n",
       "      <td>3.796328e+06</td>\n",
       "    </tr>\n",
       "    <tr>\n",
       "      <th>3</th>\n",
       "      <td>2009-03-03</td>\n",
       "      <td>3.0</td>\n",
       "      <td>-0.054918</td>\n",
       "      <td>-0.094643</td>\n",
       "      <td>0.200193</td>\n",
       "      <td>229925.934299</td>\n",
       "      <td>0.047145</td>\n",
       "      <td>-6.726121e+05</td>\n",
       "    </tr>\n",
       "    <tr>\n",
       "      <th>4</th>\n",
       "      <td>2009-03-03</td>\n",
       "      <td>4.0</td>\n",
       "      <td>-0.047788</td>\n",
       "      <td>-0.089003</td>\n",
       "      <td>0.188468</td>\n",
       "      <td>285439.272275</td>\n",
       "      <td>0.006192</td>\n",
       "      <td>7.608310e+06</td>\n",
       "    </tr>\n",
       "  </tbody>\n",
       "</table>\n",
       "</div>"
      ],
      "text/plain": [
       "        Date  Group_Num       WOR       WTR       Vol           Size  \\\n",
       "0 2009-03-03        0.0 -0.135220 -0.120921  0.204262  131349.528804   \n",
       "1 2009-03-03        1.0 -0.083087 -0.106794  0.205562  113700.138073   \n",
       "2 2009-03-03        2.0 -0.065233 -0.102034  0.208262  169216.810481   \n",
       "3 2009-03-03        3.0 -0.054918 -0.094643  0.200193  229925.934299   \n",
       "4 2009-03-03        4.0 -0.047788 -0.089003  0.188468  285439.272275   \n",
       "\n",
       "   Profitability           EPR  \n",
       "0      -0.110475 -3.053734e+07  \n",
       "1      -0.003398 -6.355348e+06  \n",
       "2      -0.108082  3.796328e+06  \n",
       "3       0.047145 -6.726121e+05  \n",
       "4       0.006192  7.608310e+06  "
      ]
     },
     "execution_count": 24,
     "metadata": {},
     "output_type": "execute_result"
    }
   ],
   "source": [
    "#计算每周每组的平均收益率\n",
    "df_price_weekly_group_mean=df_total.groupby(['Date','Group_Num']).mean()\n",
    "#0 表示该周CTO最低的一组， 9表示最高\n",
    "df_price_weekly_group_mean.reset_index(drop=False,inplace=True)\n",
    "df_price_weekly_group_mean.head()"
   ]
  },
  {
   "cell_type": "code",
   "execution_count": 25,
   "metadata": {
    "scrolled": false
   },
   "outputs": [
    {
     "data": {
      "text/html": [
       "<div>\n",
       "<style scoped>\n",
       "    .dataframe tbody tr th:only-of-type {\n",
       "        vertical-align: middle;\n",
       "    }\n",
       "\n",
       "    .dataframe tbody tr th {\n",
       "        vertical-align: top;\n",
       "    }\n",
       "\n",
       "    .dataframe thead th {\n",
       "        text-align: right;\n",
       "    }\n",
       "</style>\n",
       "<table border=\"1\" class=\"dataframe\">\n",
       "  <thead>\n",
       "    <tr style=\"text-align: right;\">\n",
       "      <th></th>\n",
       "      <th>WOR</th>\n",
       "      <th>WTR</th>\n",
       "      <th>Vol</th>\n",
       "      <th>Size</th>\n",
       "      <th>Profitability</th>\n",
       "      <th>EPR</th>\n",
       "    </tr>\n",
       "    <tr>\n",
       "      <th>Group_Num</th>\n",
       "      <th></th>\n",
       "      <th></th>\n",
       "      <th></th>\n",
       "      <th></th>\n",
       "      <th></th>\n",
       "      <th></th>\n",
       "    </tr>\n",
       "  </thead>\n",
       "  <tbody>\n",
       "    <tr>\n",
       "      <th>0.0</th>\n",
       "      <td>-0.055077</td>\n",
       "      <td>-0.015675</td>\n",
       "      <td>0.150556</td>\n",
       "      <td>6.806846e+05</td>\n",
       "      <td>-0.039621</td>\n",
       "      <td>3.538001e+07</td>\n",
       "    </tr>\n",
       "    <tr>\n",
       "      <th>1.0</th>\n",
       "      <td>-0.026012</td>\n",
       "      <td>-0.005040</td>\n",
       "      <td>0.142459</td>\n",
       "      <td>8.860148e+05</td>\n",
       "      <td>-0.018220</td>\n",
       "      <td>8.169825e+07</td>\n",
       "    </tr>\n",
       "    <tr>\n",
       "      <th>2.0</th>\n",
       "      <td>-0.018233</td>\n",
       "      <td>-0.003582</td>\n",
       "      <td>0.137578</td>\n",
       "      <td>1.063568e+06</td>\n",
       "      <td>-0.006222</td>\n",
       "      <td>1.274008e+08</td>\n",
       "    </tr>\n",
       "    <tr>\n",
       "      <th>3.0</th>\n",
       "      <td>-0.012928</td>\n",
       "      <td>-0.002740</td>\n",
       "      <td>0.134530</td>\n",
       "      <td>1.246533e+06</td>\n",
       "      <td>-0.005473</td>\n",
       "      <td>1.794541e+08</td>\n",
       "    </tr>\n",
       "    <tr>\n",
       "      <th>4.0</th>\n",
       "      <td>-0.008608</td>\n",
       "      <td>-0.001692</td>\n",
       "      <td>0.132719</td>\n",
       "      <td>1.329008e+06</td>\n",
       "      <td>0.006152</td>\n",
       "      <td>2.022588e+08</td>\n",
       "    </tr>\n",
       "    <tr>\n",
       "      <th>5.0</th>\n",
       "      <td>-0.004651</td>\n",
       "      <td>-0.000575</td>\n",
       "      <td>0.131421</td>\n",
       "      <td>1.449759e+06</td>\n",
       "      <td>0.025818</td>\n",
       "      <td>2.427825e+08</td>\n",
       "    </tr>\n",
       "    <tr>\n",
       "      <th>6.0</th>\n",
       "      <td>-0.000553</td>\n",
       "      <td>0.000723</td>\n",
       "      <td>0.131111</td>\n",
       "      <td>1.486322e+06</td>\n",
       "      <td>0.016669</td>\n",
       "      <td>2.435777e+08</td>\n",
       "    </tr>\n",
       "    <tr>\n",
       "      <th>7.0</th>\n",
       "      <td>0.004550</td>\n",
       "      <td>0.003015</td>\n",
       "      <td>0.132423</td>\n",
       "      <td>1.403408e+06</td>\n",
       "      <td>0.020337</td>\n",
       "      <td>2.055129e+08</td>\n",
       "    </tr>\n",
       "    <tr>\n",
       "      <th>8.0</th>\n",
       "      <td>0.011990</td>\n",
       "      <td>0.008067</td>\n",
       "      <td>0.135421</td>\n",
       "      <td>1.295916e+06</td>\n",
       "      <td>0.034257</td>\n",
       "      <td>1.625991e+08</td>\n",
       "    </tr>\n",
       "    <tr>\n",
       "      <th>9.0</th>\n",
       "      <td>0.050769</td>\n",
       "      <td>0.037371</td>\n",
       "      <td>0.142926</td>\n",
       "      <td>1.024912e+06</td>\n",
       "      <td>0.042741</td>\n",
       "      <td>8.619003e+07</td>\n",
       "    </tr>\n",
       "  </tbody>\n",
       "</table>\n",
       "</div>"
      ],
      "text/plain": [
       "                WOR       WTR       Vol          Size  Profitability  \\\n",
       "Group_Num                                                              \n",
       "0.0       -0.055077 -0.015675  0.150556  6.806846e+05      -0.039621   \n",
       "1.0       -0.026012 -0.005040  0.142459  8.860148e+05      -0.018220   \n",
       "2.0       -0.018233 -0.003582  0.137578  1.063568e+06      -0.006222   \n",
       "3.0       -0.012928 -0.002740  0.134530  1.246533e+06      -0.005473   \n",
       "4.0       -0.008608 -0.001692  0.132719  1.329008e+06       0.006152   \n",
       "5.0       -0.004651 -0.000575  0.131421  1.449759e+06       0.025818   \n",
       "6.0       -0.000553  0.000723  0.131111  1.486322e+06       0.016669   \n",
       "7.0        0.004550  0.003015  0.132423  1.403408e+06       0.020337   \n",
       "8.0        0.011990  0.008067  0.135421  1.295916e+06       0.034257   \n",
       "9.0        0.050769  0.037371  0.142926  1.024912e+06       0.042741   \n",
       "\n",
       "                    EPR  \n",
       "Group_Num                \n",
       "0.0        3.538001e+07  \n",
       "1.0        8.169825e+07  \n",
       "2.0        1.274008e+08  \n",
       "3.0        1.794541e+08  \n",
       "4.0        2.022588e+08  \n",
       "5.0        2.427825e+08  \n",
       "6.0        2.435777e+08  \n",
       "7.0        2.055129e+08  \n",
       "8.0        1.625991e+08  \n",
       "9.0        8.619003e+07  "
      ]
     },
     "metadata": {},
     "output_type": "display_data"
    }
   ],
   "source": [
    "#计算每组的每周收益率 :AWOR average weekly overnight return\n",
    "df_AWOR=df_price_weekly_group_mean.groupby('Group_Num').mean()  \n",
    "df_AWOR.rename(columns={'CTO':'Average Weekly Overnight Return'},inplace=True)\n",
    "display(df_AWOR)"
   ]
  },
  {
   "cell_type": "code",
   "execution_count": 26,
   "metadata": {},
   "outputs": [
    {
     "data": {
      "image/png": "[encoded data removed]",
      "text/plain": [
       "<Figure size 720x432 with 1 Axes>"
      ]
     },
     "metadata": {
      "needs_background": "light"
     },
     "output_type": "display_data"
    }
   ],
   "source": [
    "plt.figure(figsize=(10,6))\n",
    "plt.plot(df_AWOR.WOR,label='WOR')\n",
    "plt.plot(df_AWOR.WTR,label='WTR')\n",
    "plt.plot(df_AWOR.Vol,label='Volatility')\n",
    "plt.plot(df_AWOR.Size/10000000,label='Size')\n",
    "plt.plot(df_AWOR.Profitability,label='Profitability')\n",
    "plt.plot(df_AWOR.EPR/1000000000,label='EPR')\n",
    "plt.legend()\n",
    "plt.xlim(1,9)\n",
    "plt.show()"
   ]
  },
  {
   "cell_type": "markdown",
   "metadata": {},
   "source": [
    "如表格和图片所示， WOR(average weekly over return) 和 WTR(average weekly total return) 均为单调递增。除了在第六组，WOR和WTR收益率符号相反，在其余9组中，符号都相同，且WOR的绝对值都大于WTR，说明出现价格反转。\n",
    " <br><br>因为$WOR=\\frac{Open-preClose}{preClose}$,$ WTR=\\frac{Close-preClose}{preClose}$, $|WOR|>|WTR|\\rightarrow |Open-preClose|>|Close-preClose|$，说明开盘价和前一天的收盘价差值较大，然后在当个交易日内会价格会慢慢回落，出现交易日内的价格反转现象。该现象出现的原因是个人投资者倾向于在非正常交易时间段内进行交易，这些交易信息会体现在第二天的开盘价，导致开盘价会过高或过低，之后股票价格会慢慢回归正常值，出现收益率反转。\n",
    "\n",
    "其余指标，Volatility呈U形，Size和EPR呈倒U形，而profitability没有明显的趋势。WOR最大和最小两组（第0组和第9组）中的股票表现为市值小，股票波动率大，EPR小。\n"
   ]
  },
  {
   "cell_type": "code",
   "execution_count": 27,
   "metadata": {},
   "outputs": [],
   "source": [
    "df_total.to_csv('../data/total.csv')"
   ]
  },
  {
   "cell_type": "code",
   "execution_count": null,
   "metadata": {},
   "outputs": [],
   "source": []
  }
 ],
 "metadata": {
  "hide_input": false,
  "kernelspec": {
   "display_name": "Python 3",
   "language": "python",
   "name": "python3"
  },
  "language_info": {
   "codemirror_mode": {
    "name": "ipython",
    "version": 3
   },
   "file_extension": ".py",
   "mimetype": "text/x-python",
   "name": "python",
   "nbconvert_exporter": "python",
   "pygments_lexer": "ipython3",
   "version": "3.6.8"
  },
  "toc": {
   "base_numbering": 1,
   "nav_menu": {},
   "number_sections": true,
   "sideBar": true,
   "skip_h1_title": false,
   "title_cell": "Table of Contents",
   "title_sidebar": "Contents",
   "toc_cell": false,
   "toc_position": {
    "height": "calc(100% - 180px)",
    "left": "10px",
    "top": "150px",
    "width": "288px"
   },
   "toc_section_display": true,
   "toc_window_display": true
  },
  "varInspector": {
   "cols": {
    "lenName": 16,
    "lenType": 16,
    "lenVar": 40
   },
   "kernels_config": {
    "python": {
     "delete_cmd_postfix": "",
     "delete_cmd_prefix": "del ",
     "library": "var_list.py",
     "varRefreshCmd": "print(var_dic_list())"
    },
    "r": {
     "delete_cmd_postfix": ") ",
     "delete_cmd_prefix": "rm(",
     "library": "var_list.r",
     "varRefreshCmd": "cat(var_dic_list()) "
    }
   },
   "types_to_exclude": [
    "module",
    "function",
    "builtin_function_or_method",
    "instance",
    "_Feature"
   ],
   "window_display": false
  }
 },
 "nbformat": 4,
 "nbformat_minor": 2
}
