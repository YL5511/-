{
 "cells": [
  {
   "cell_type": "code",
   "execution_count": 1,
   "metadata": {},
   "outputs": [],
   "source": [
    "import pandas as pd\n",
    "import numpy as np\n",
    "from scipy import stats"
   ]
  },
  {
   "cell_type": "markdown",
   "metadata": {},
   "source": [
    "# 导入数据"
   ]
  },
  {
   "cell_type": "code",
   "execution_count": 2,
   "metadata": {
    "scrolled": true
   },
   "outputs": [
    {
     "data": {
      "text/html": [
       "<div>\n",
       "<style scoped>\n",
       "    .dataframe tbody tr th:only-of-type {\n",
       "        vertical-align: middle;\n",
       "    }\n",
       "\n",
       "    .dataframe tbody tr th {\n",
       "        vertical-align: top;\n",
       "    }\n",
       "\n",
       "    .dataframe thead th {\n",
       "        text-align: right;\n",
       "    }\n",
       "</style>\n",
       "<table border=\"1\" class=\"dataframe\">\n",
       "  <thead>\n",
       "    <tr style=\"text-align: right;\">\n",
       "      <th></th>\n",
       "      <th>Date</th>\n",
       "      <th>Group_Num</th>\n",
       "      <th>Code</th>\n",
       "      <th>WOR</th>\n",
       "      <th>WTR</th>\n",
       "      <th>Vol</th>\n",
       "      <th>Size</th>\n",
       "      <th>Profitability</th>\n",
       "      <th>EPR</th>\n",
       "    </tr>\n",
       "  </thead>\n",
       "  <tbody>\n",
       "    <tr>\n",
       "      <th>0</th>\n",
       "      <td>2009-03-03</td>\n",
       "      <td>0.0</td>\n",
       "      <td>600718.SH</td>\n",
       "      <td>-0.499369</td>\n",
       "      <td>NaN</td>\n",
       "      <td>0.210875</td>\n",
       "      <td>295325.492124</td>\n",
       "      <td>0.142162</td>\n",
       "      <td>2.852842e+07</td>\n",
       "    </tr>\n",
       "    <tr>\n",
       "      <th>1</th>\n",
       "      <td>2009-03-03</td>\n",
       "      <td>0.0</td>\n",
       "      <td>600991.SH</td>\n",
       "      <td>-0.411673</td>\n",
       "      <td>-0.066589</td>\n",
       "      <td>0.200163</td>\n",
       "      <td>96569.256078</td>\n",
       "      <td>0.040064</td>\n",
       "      <td>1.161347e+07</td>\n",
       "    </tr>\n",
       "    <tr>\n",
       "      <th>2</th>\n",
       "      <td>2009-03-03</td>\n",
       "      <td>0.0</td>\n",
       "      <td>000425.SZ</td>\n",
       "      <td>-0.407139</td>\n",
       "      <td>0.017674</td>\n",
       "      <td>0.203814</td>\n",
       "      <td>589681.232985</td>\n",
       "      <td>-0.059167</td>\n",
       "      <td>-2.670190e+06</td>\n",
       "    </tr>\n",
       "    <tr>\n",
       "      <th>3</th>\n",
       "      <td>2009-03-03</td>\n",
       "      <td>0.0</td>\n",
       "      <td>000560.SZ</td>\n",
       "      <td>-0.278895</td>\n",
       "      <td>-0.185841</td>\n",
       "      <td>0.160781</td>\n",
       "      <td>47291.585650</td>\n",
       "      <td>0.009247</td>\n",
       "      <td>6.588908e+05</td>\n",
       "    </tr>\n",
       "    <tr>\n",
       "      <th>4</th>\n",
       "      <td>2009-03-03</td>\n",
       "      <td>0.0</td>\n",
       "      <td>600433.SH</td>\n",
       "      <td>-0.236562</td>\n",
       "      <td>-0.167568</td>\n",
       "      <td>0.190481</td>\n",
       "      <td>30333.600000</td>\n",
       "      <td>-0.058891</td>\n",
       "      <td>-3.167137e+06</td>\n",
       "    </tr>\n",
       "  </tbody>\n",
       "</table>\n",
       "</div>"
      ],
      "text/plain": [
       "        Date  Group_Num       Code       WOR       WTR       Vol  \\\n",
       "0 2009-03-03        0.0  600718.SH -0.499369       NaN  0.210875   \n",
       "1 2009-03-03        0.0  600991.SH -0.411673 -0.066589  0.200163   \n",
       "2 2009-03-03        0.0  000425.SZ -0.407139  0.017674  0.203814   \n",
       "3 2009-03-03        0.0  000560.SZ -0.278895 -0.185841  0.160781   \n",
       "4 2009-03-03        0.0  600433.SH -0.236562 -0.167568  0.190481   \n",
       "\n",
       "            Size  Profitability           EPR  \n",
       "0  295325.492124       0.142162  2.852842e+07  \n",
       "1   96569.256078       0.040064  1.161347e+07  \n",
       "2  589681.232985      -0.059167 -2.670190e+06  \n",
       "3   47291.585650       0.009247  6.588908e+05  \n",
       "4   30333.600000      -0.058891 -3.167137e+06  "
      ]
     },
     "metadata": {},
     "output_type": "display_data"
    }
   ],
   "source": [
    "#导入整理好的汇总数据\n",
    "df=pd.read_csv('../data/total.csv')\n",
    "df=df[['Date','Group_Num','Code','WOR','WTR','Vol','Size','Profitability','EPR']]\n",
    "df.Date=pd.to_datetime(df.Date)\n",
    "display(df.head())"
   ]
  },
  {
   "cell_type": "code",
   "execution_count": 3,
   "metadata": {
    "scrolled": true
   },
   "outputs": [],
   "source": [
    "#frequence: weekly -> monthly\n",
    "df_m=df.groupby(['Code',pd.Grouper(key='Date',freq='M')]).first()\n",
    "df_m.reset_index(inplace=True)"
   ]
  },
  {
   "cell_type": "markdown",
   "metadata": {},
   "source": [
    "## 计算股票月度收益率"
   ]
  },
  {
   "cell_type": "code",
   "execution_count": 4,
   "metadata": {},
   "outputs": [],
   "source": [
    "df_price=pd.read_csv('../data/论文阅读题_行情数据.csv')\n",
    "#drop volume and amount \n",
    "df_price.drop(['Volume','Amount'],axis=1,inplace=True)\n",
    "#set date as index which type is datetime\n",
    "df_price=df_price.set_index('Date')\n",
    "df_price.index=pd.to_datetime(df_price.index)\n",
    "df_price.head()\n",
    "#we drop data if the open price==0\n",
    "df_price=df_price[df_price.Open!=0]"
   ]
  },
  {
   "cell_type": "code",
   "execution_count": 5,
   "metadata": {},
   "outputs": [
    {
     "data": {
      "text/html": [
       "<div>\n",
       "<style scoped>\n",
       "    .dataframe tbody tr th:only-of-type {\n",
       "        vertical-align: middle;\n",
       "    }\n",
       "\n",
       "    .dataframe tbody tr th {\n",
       "        vertical-align: top;\n",
       "    }\n",
       "\n",
       "    .dataframe thead th {\n",
       "        text-align: right;\n",
       "    }\n",
       "</style>\n",
       "<table border=\"1\" class=\"dataframe\">\n",
       "  <thead>\n",
       "    <tr style=\"text-align: right;\">\n",
       "      <th></th>\n",
       "      <th>Code</th>\n",
       "      <th>PreClose</th>\n",
       "      <th>Open</th>\n",
       "      <th>Close</th>\n",
       "    </tr>\n",
       "    <tr>\n",
       "      <th>Date</th>\n",
       "      <th></th>\n",
       "      <th></th>\n",
       "      <th></th>\n",
       "      <th></th>\n",
       "    </tr>\n",
       "  </thead>\n",
       "  <tbody>\n",
       "    <tr>\n",
       "      <th>2008-01-02</th>\n",
       "      <td>000001.SZ</td>\n",
       "      <td>38.60</td>\n",
       "      <td>38.50</td>\n",
       "      <td>37.98</td>\n",
       "    </tr>\n",
       "    <tr>\n",
       "      <th>2008-01-03</th>\n",
       "      <td>000001.SZ</td>\n",
       "      <td>37.98</td>\n",
       "      <td>38.00</td>\n",
       "      <td>37.35</td>\n",
       "    </tr>\n",
       "    <tr>\n",
       "      <th>2008-01-04</th>\n",
       "      <td>000001.SZ</td>\n",
       "      <td>37.35</td>\n",
       "      <td>37.40</td>\n",
       "      <td>38.37</td>\n",
       "    </tr>\n",
       "    <tr>\n",
       "      <th>2008-01-07</th>\n",
       "      <td>000001.SZ</td>\n",
       "      <td>38.37</td>\n",
       "      <td>38.18</td>\n",
       "      <td>39.17</td>\n",
       "    </tr>\n",
       "    <tr>\n",
       "      <th>2008-01-08</th>\n",
       "      <td>000001.SZ</td>\n",
       "      <td>39.17</td>\n",
       "      <td>39.42</td>\n",
       "      <td>40.39</td>\n",
       "    </tr>\n",
       "  </tbody>\n",
       "</table>\n",
       "</div>"
      ],
      "text/plain": [
       "                 Code  PreClose   Open  Close\n",
       "Date                                         \n",
       "2008-01-02  000001.SZ     38.60  38.50  37.98\n",
       "2008-01-03  000001.SZ     37.98  38.00  37.35\n",
       "2008-01-04  000001.SZ     37.35  37.40  38.37\n",
       "2008-01-07  000001.SZ     38.37  38.18  39.17\n",
       "2008-01-08  000001.SZ     39.17  39.42  40.39"
      ]
     },
     "execution_count": 5,
     "metadata": {},
     "output_type": "execute_result"
    }
   ],
   "source": [
    "df_price.head()"
   ]
  },
  {
   "cell_type": "code",
   "execution_count": 6,
   "metadata": {},
   "outputs": [],
   "source": [
    "#overght return \n",
    "df_price['CTO']=(df_price['Open']-df_price['PreClose'])/df_price['PreClose']\n",
    "\n",
    "#计算每只股票月收益率(mr:monthly return )\n",
    "df_mr=pd.DataFrame(df_price.groupby('Code').Close.resample('M').last())\n",
    "df_mr['MTR']=df_mr.Close/df_mr.groupby(level=0).Close.shift(1)-1 \n",
    "df_mr.reset_index(inplace=True)"
   ]
  },
  {
   "cell_type": "markdown",
   "metadata": {},
   "source": [
    "# Return for the whole sample"
   ]
  },
  {
   "cell_type": "markdown",
   "metadata": {},
   "source": [
    "## 定义函数"
   ]
  },
  {
   "cell_type": "code",
   "execution_count": 7,
   "metadata": {},
   "outputs": [],
   "source": [
    "\n",
    "'''\n",
    "step 1: 在adj_star_s～adj_end_s时间区间，根据df_port的CTO构建投资组合\n",
    "step 2: 在adj_end_s ～period_end_s时间区间，计算投资组合的每月回报率\n",
    "'''\n",
    "def portfolio(adj_star_s, adj_end_s, period_end_s, df_port):\n",
    "    \n",
    "    #step 1\n",
    "    # 计算分组当月的 MOR ( monthly average daily return ) 作为建立投资组合依据,\n",
    "    df_12mMOR=df_port.groupby('Code').CTO.mean().sort_values()\n",
    "    #按照 MOR分成10组,df_g中是每只股票对应的分组\n",
    "    df_g=pd.DataFrame(pd.qcut(df_12mMOR, 10,labels=False))\n",
    "    df_g.columns=['Port_Group']\n",
    "\n",
    "    #step 2\n",
    "    #提取在adj_end_s ～period_end_s时间区间的收益率\n",
    "    df_r=df_mr[(df_mr.Date<period_end_s)&(df_mr.Date>adj_end_s)].reset_index()\n",
    "    #将分组信息按照code 合并收益率上\n",
    "    df_r_g=df_r.merge(df_g, on=['Code'])\n",
    "    #只保留第一组和最后一组的数据\n",
    "    df_r_g=df_r_g[(df_r_g.Port_Group==0)|(df_r_g.Port_Group==9)]\n",
    "    #计算, equal weighted portfolio: 回报率是股票回报率的算术平均数\n",
    "    r_next_6m=df_r_g.groupby(['Port_Group',pd.Grouper(key='Date')]).MTR.mean()\n",
    "    \n",
    "    #print(r_next_6m)\n",
    "    return(r_next_6m)\n",
    "    "
   ]
  },
  {
   "cell_type": "markdown",
   "metadata": {},
   "source": [
    "## 计算每个月收益率"
   ]
  },
  {
   "cell_type": "code",
   "execution_count": 8,
   "metadata": {
    "scrolled": true
   },
   "outputs": [],
   "source": [
    "time_list1=pd.date_range(start='12/01/2008',end='12/1/2018', freq='6MS')\n",
    "df_m_r=[]  \n",
    "for i in time_list1:\n",
    "    \n",
    "    adj_star=i\n",
    "    adj_end=adj_star+pd.DateOffset(months=1)\n",
    "    adj_star_s=adj_star.strftime(\"%Y-%m-%d\") #变成string格式输出\n",
    "    adj_end_s=adj_end.strftime(\"%Y-%m-%d\")\n",
    "    period_end_s=(adj_end+pd.DateOffset(months=6)).strftime(\"%Y-%m-%d\")\n",
    "    \n",
    "    #在adj_star到adj_end期间进行仓位调整，建立投资组合\n",
    "    df_port=df_price[adj_star_s:adj_end_s].reset_index()\n",
    "    df_m_r.append(portfolio(adj_star_s, adj_end_s, period_end_s,df_port))"
   ]
  },
  {
   "cell_type": "code",
   "execution_count": 9,
   "metadata": {},
   "outputs": [],
   "source": [
    "#计算累计收益率的方程\n",
    "def com_ret(x):\n",
    "    return np.cumprod(x.MTR+1).tail(1)-1\n"
   ]
  },
  {
   "cell_type": "code",
   "execution_count": 10,
   "metadata": {},
   "outputs": [],
   "source": [
    "#将分开的表整合，\n",
    "df_m_r_total=pd.concat(df_m_r).reset_index().sort_values('Port_Group').reset_index(drop=True)\n",
    "\n",
    "#平均每个月的收益率:\n",
    "df_ave_mr=df_m_r_total.groupby('Port_Group').MTR.mean()\n",
    "\n",
    "#样本期间总体收益率\n",
    "df_total_return=df_m_r_total.groupby('Port_Group').apply(com_ret)\n",
    "\n",
    "#样本期间每年收益率(1+R1)(1+R2)...(1+R12)-1\n",
    "df_annual_return=pd.DataFrame(df_m_r_total.groupby(['Port_Group',pd.Grouper(key='Date',freq='Y')]).apply(com_ret))\n"
   ]
  },
  {
   "cell_type": "markdown",
   "metadata": {},
   "source": [
    "## 结论"
   ]
  },
  {
   "cell_type": "code",
   "execution_count": 11,
   "metadata": {},
   "outputs": [
    {
     "name": "stdout",
     "output_type": "stream",
     "text": [
      "每个月平均收益率为\n",
      "Decile 1:  0.007428\n",
      "Decile10: 0.013443\n",
      "Decile1-Decile10: -0.006015\n"
     ]
    }
   ],
   "source": [
    "print('每个月平均收益率为\\nDecile 1: ',np.round(df_ave_mr[0],6))\n",
    "print('Decile10:',np.round(df_ave_mr[9],6))\n",
    "print('Decile1-Decile10:',np.round(df_ave_mr[0]-df_ave_mr[9],6))"
   ]
  },
  {
   "cell_type": "code",
   "execution_count": 12,
   "metadata": {},
   "outputs": [
    {
     "name": "stdout",
     "output_type": "stream",
     "text": [
      "样本期间总体收益率\n",
      "Decile 1:  0.319395\n",
      "Decile10: 2.160108\n",
      "Decile1-Decile10: -1.840714\n"
     ]
    }
   ],
   "source": [
    "print('样本期间总体收益率')\n",
    "print('Decile 1: ',np.round(df_total_return[0].values[0],6))\n",
    "print('Decile10:',np.round(df_total_return[9].values[0],6))\n",
    "print('Decile1-Decile10:',np.round(df_total_return[0].values[0]-df_total_return[9].values[0],6))"
   ]
  },
  {
   "cell_type": "code",
   "execution_count": 13,
   "metadata": {},
   "outputs": [],
   "source": [
    "df_annual_return.reset_index(level=2,drop=True,inplace=True)\n",
    "df_annual_return.reset_index(inplace=True)"
   ]
  },
  {
   "cell_type": "code",
   "execution_count": 14,
   "metadata": {
    "scrolled": true
   },
   "outputs": [
    {
     "name": "stdout",
     "output_type": "stream",
     "text": [
      "组合每年收益率为\n"
     ]
    },
    {
     "data": {
      "text/html": [
       "<div>\n",
       "<style scoped>\n",
       "    .dataframe tbody tr th:only-of-type {\n",
       "        vertical-align: middle;\n",
       "    }\n",
       "\n",
       "    .dataframe tbody tr th {\n",
       "        vertical-align: top;\n",
       "    }\n",
       "\n",
       "    .dataframe thead th {\n",
       "        text-align: right;\n",
       "    }\n",
       "</style>\n",
       "<table border=\"1\" class=\"dataframe\">\n",
       "  <thead>\n",
       "    <tr style=\"text-align: right;\">\n",
       "      <th></th>\n",
       "      <th>Date</th>\n",
       "      <th>Decile0</th>\n",
       "      <th>Decile10</th>\n",
       "      <th>Decile1-Decile10</th>\n",
       "    </tr>\n",
       "  </thead>\n",
       "  <tbody>\n",
       "    <tr>\n",
       "      <th>0</th>\n",
       "      <td>2009-12-31</td>\n",
       "      <td>1.285656</td>\n",
       "      <td>1.461645</td>\n",
       "      <td>-0.175989</td>\n",
       "    </tr>\n",
       "    <tr>\n",
       "      <th>1</th>\n",
       "      <td>2010-12-31</td>\n",
       "      <td>-0.012465</td>\n",
       "      <td>0.074072</td>\n",
       "      <td>-0.086537</td>\n",
       "    </tr>\n",
       "    <tr>\n",
       "      <th>2</th>\n",
       "      <td>2011-12-31</td>\n",
       "      <td>-0.422701</td>\n",
       "      <td>-0.383824</td>\n",
       "      <td>-0.038877</td>\n",
       "    </tr>\n",
       "    <tr>\n",
       "      <th>3</th>\n",
       "      <td>2012-12-31</td>\n",
       "      <td>-0.039917</td>\n",
       "      <td>-0.052748</td>\n",
       "      <td>0.012831</td>\n",
       "    </tr>\n",
       "    <tr>\n",
       "      <th>4</th>\n",
       "      <td>2013-12-31</td>\n",
       "      <td>0.076763</td>\n",
       "      <td>0.208653</td>\n",
       "      <td>-0.131891</td>\n",
       "    </tr>\n",
       "    <tr>\n",
       "      <th>5</th>\n",
       "      <td>2014-12-31</td>\n",
       "      <td>0.317804</td>\n",
       "      <td>0.249879</td>\n",
       "      <td>0.067925</td>\n",
       "    </tr>\n",
       "    <tr>\n",
       "      <th>6</th>\n",
       "      <td>2015-12-31</td>\n",
       "      <td>0.715844</td>\n",
       "      <td>1.071247</td>\n",
       "      <td>-0.355404</td>\n",
       "    </tr>\n",
       "    <tr>\n",
       "      <th>7</th>\n",
       "      <td>2016-12-31</td>\n",
       "      <td>-0.208145</td>\n",
       "      <td>-0.170530</td>\n",
       "      <td>-0.037615</td>\n",
       "    </tr>\n",
       "    <tr>\n",
       "      <th>8</th>\n",
       "      <td>2017-12-31</td>\n",
       "      <td>-0.326297</td>\n",
       "      <td>-0.154496</td>\n",
       "      <td>-0.171801</td>\n",
       "    </tr>\n",
       "    <tr>\n",
       "      <th>9</th>\n",
       "      <td>2018-12-31</td>\n",
       "      <td>-0.391941</td>\n",
       "      <td>-0.315299</td>\n",
       "      <td>-0.076642</td>\n",
       "    </tr>\n",
       "    <tr>\n",
       "      <th>10</th>\n",
       "      <td>2019-12-31</td>\n",
       "      <td>0.335341</td>\n",
       "      <td>0.362867</td>\n",
       "      <td>-0.027526</td>\n",
       "    </tr>\n",
       "  </tbody>\n",
       "</table>\n",
       "</div>"
      ],
      "text/plain": [
       "         Date   Decile0  Decile10  Decile1-Decile10\n",
       "0  2009-12-31  1.285656  1.461645         -0.175989\n",
       "1  2010-12-31 -0.012465  0.074072         -0.086537\n",
       "2  2011-12-31 -0.422701 -0.383824         -0.038877\n",
       "3  2012-12-31 -0.039917 -0.052748          0.012831\n",
       "4  2013-12-31  0.076763  0.208653         -0.131891\n",
       "5  2014-12-31  0.317804  0.249879          0.067925\n",
       "6  2015-12-31  0.715844  1.071247         -0.355404\n",
       "7  2016-12-31 -0.208145 -0.170530         -0.037615\n",
       "8  2017-12-31 -0.326297 -0.154496         -0.171801\n",
       "9  2018-12-31 -0.391941 -0.315299         -0.076642\n",
       "10 2019-12-31  0.335341  0.362867         -0.027526"
      ]
     },
     "metadata": {},
     "output_type": "display_data"
    }
   ],
   "source": [
    "a=df_annual_return[df_annual_return.Port_Group==0].rename(columns={'MTR':'Decile0'}).drop('Port_Group',axis=1)\n",
    "b=df_annual_return[df_annual_return.Port_Group==9].rename(columns={'MTR':'Decile10'}).drop('Port_Group',axis=1)\n",
    "df_an_ret=a.merge(b,on='Date')\n",
    "df_an_ret['Decile1-Decile10']=df_an_ret['Decile0']-df_an_ret['Decile10']\n",
    "print('组合每年收益率为')\n",
    "display(df_an_ret)"
   ]
  },
  {
   "cell_type": "markdown",
   "metadata": {},
   "source": [
    "原文假设如果CTO可以表征情绪，那么CTO越高，情绪越高，则公司越容易表现差。但是从实证研究来看，隔夜收益率和情绪为正相关，即高CTO高收益率，和论文结论相反，"
   ]
  },
  {
   "cell_type": "markdown",
   "metadata": {},
   "source": [
    "# Return of hard-to-value subclas"
   ]
  },
  {
   "cell_type": "markdown",
   "metadata": {},
   "source": [
    "在6月底进行调仓位的时候，使用3月底的Hard_to_Value指标讲过所有股票进行分组；在12分进行调仓时使用9月底的指标，这样做是为了确保在调仓时，指标是已知的。"
   ]
  },
  {
   "cell_type": "markdown",
   "metadata": {},
   "source": [
    "## 定义函数"
   ]
  },
  {
   "cell_type": "code",
   "execution_count": 15,
   "metadata": {},
   "outputs": [],
   "source": [
    "def subclass_by_proxy(proxy,sub_date_s,adj_star_s,adj_end_s):\n",
    "    \n",
    "    #提取出subdate时候的数据\n",
    "    df_sub=df_m[df_m.Date==sub_date_s][['Code','Date',proxy]]\n",
    "    df_sub.set_index('Code',inplace=True)\n",
    "    #display(df_sub.head())\n",
    "\n",
    "    #按照proxy分车4组，index为code，\n",
    "    df_sub_g=pd.DataFrame(pd.qcut(df_sub[proxy],4,labels=False))\n",
    "    df_sub_g.columns=['Proxy_Group']\n",
    "    #display(df_sub_g.head()) \n",
    "\n",
    "    #调仓窗口:构建投资组合\n",
    "    df_adj=df_price[adj_star_s:adj_end_s].reset_index()\n",
    "    #第一步：proxy分组信息合并到数据上，取proxy最高和最低的两组,分别为df_low,df_high\n",
    "    df_adj_sub=df_adj.merge(df_sub_g,on='Code')\n",
    "\n",
    "    df_low=df_adj_sub[df_adj_sub.Proxy_Group==0]\n",
    "    df_high=df_adj_sub[df_adj_sub.Proxy_Group==3]\n",
    "    \n",
    "    return [df_low,df_high]\n"
   ]
  },
  {
   "cell_type": "markdown",
   "metadata": {},
   "source": [
    "## 计算每个proxy的月收益"
   ]
  },
  {
   "cell_type": "code",
   "execution_count": 16,
   "metadata": {},
   "outputs": [],
   "source": [
    "time_list2=pd.date_range(start='6/01/2009',end='12/1/2018', freq='6MS')"
   ]
  },
  {
   "cell_type": "code",
   "execution_count": 17,
   "metadata": {},
   "outputs": [
    {
     "name": "stdout",
     "output_type": "stream",
     "text": [
      "calculating monthly return for Vol\n",
      "calculating monthly return for Size\n",
      "calculating monthly return for Profitability\n",
      "calculating monthly return for EPR\n"
     ]
    }
   ],
   "source": [
    "proxy_list=['Vol','Size','Profitability','EPR']\n",
    "df_proxy_r=[]\n",
    "'''\n",
    "df_proxy_r 为二维list，用来存放每个proxy low组和high组的月度收益率。\n",
    "第一维为proxy（0:vol，1:size，2:profitability，3:EPR）\n",
    "第二维为low和high组（0:low group,1:high:group)\n",
    "'''\n",
    "for i in proxy_list:\n",
    "    proxy=i\n",
    "    df_low_r=[]\n",
    "    df_high_r=[]\n",
    "    print('calculating monthly return for',i)\n",
    "    for i in time_list2:\n",
    "        adj_star=i\n",
    "        adj_star_s=adj_star.strftime(\"%Y-%m-%d\")\n",
    "        adj_end_s=(adj_star+pd.DateOffset(months=1)).strftime(\"%Y-%m-%d\")\n",
    "        period_end_s=(adj_star+pd.DateOffset(months=7)).strftime(\"%Y-%m-%d\")\n",
    "        sub_date_s=(adj_star-pd.DateOffset(months=2)-pd.DateOffset(days=1)).strftime(\"%Y-%m-%d\")\n",
    "        df_port=subclass_by_proxy(proxy,sub_date_s,adj_star_s,adj_end_s)\n",
    "\n",
    "        df_low_r.append(portfolio(adj_star_s, adj_end_s, period_end_s, df_port[0]))\n",
    "        df_high_r.append(portfolio(adj_star_s, adj_end_s, period_end_s, df_port[1]))\n",
    "    \n",
    "    df_proxy_low=pd.concat(df_low_r).reset_index().sort_values(['Port_Group','Date'])\n",
    "    df_proxy_high=pd.concat(df_high_r).reset_index().sort_values(['Port_Group','Date'])\n",
    "    \n",
    "    df_proxy_r.append([df_proxy_low,df_proxy_high])"
   ]
  },
  {
   "cell_type": "markdown",
   "metadata": {},
   "source": [
    "## 结论"
   ]
  },
  {
   "cell_type": "code",
   "execution_count": 18,
   "metadata": {},
   "outputs": [],
   "source": [
    "index_list=['Vol_low','Vol_high','Size_low','Size_high','Profit_low','Profit_high','EPR_low','EPR_high']"
   ]
  },
  {
   "cell_type": "markdown",
   "metadata": {},
   "source": [
    "### 每个月平均收益率"
   ]
  },
  {
   "cell_type": "code",
   "execution_count": 19,
   "metadata": {
    "code_folding": [],
    "scrolled": true
   },
   "outputs": [],
   "source": [
    "l_ave_mr=[]\n",
    "for i in range(4):\n",
    "    for j in range(2):\n",
    "        a=df_proxy_r[i][j].groupby('Port_Group').mean().values.reshape(2,)\n",
    "        l_ave_mr.append(a)\n",
    "        "
   ]
  },
  {
   "cell_type": "code",
   "execution_count": 20,
   "metadata": {
    "scrolled": false
   },
   "outputs": [
    {
     "name": "stdout",
     "output_type": "stream",
     "text": [
      "每个proxy平均月度收益率\n"
     ]
    },
    {
     "data": {
      "text/html": [
       "<div>\n",
       "<style scoped>\n",
       "    .dataframe tbody tr th:only-of-type {\n",
       "        vertical-align: middle;\n",
       "    }\n",
       "\n",
       "    .dataframe tbody tr th {\n",
       "        vertical-align: top;\n",
       "    }\n",
       "\n",
       "    .dataframe thead th {\n",
       "        text-align: right;\n",
       "    }\n",
       "</style>\n",
       "<table border=\"1\" class=\"dataframe\">\n",
       "  <thead>\n",
       "    <tr style=\"text-align: right;\">\n",
       "      <th></th>\n",
       "      <th>Decile1</th>\n",
       "      <th>Decile10</th>\n",
       "      <th>Decile1-Decile10</th>\n",
       "    </tr>\n",
       "  </thead>\n",
       "  <tbody>\n",
       "    <tr>\n",
       "      <th>Vol_low</th>\n",
       "      <td>0.006908</td>\n",
       "      <td>0.009140</td>\n",
       "      <td>-0.002231</td>\n",
       "    </tr>\n",
       "    <tr>\n",
       "      <th>Vol_high</th>\n",
       "      <td>0.001434</td>\n",
       "      <td>0.005790</td>\n",
       "      <td>-0.004355</td>\n",
       "    </tr>\n",
       "    <tr>\n",
       "      <th>Size_low</th>\n",
       "      <td>0.008316</td>\n",
       "      <td>0.011024</td>\n",
       "      <td>-0.002709</td>\n",
       "    </tr>\n",
       "    <tr>\n",
       "      <th>Size_high</th>\n",
       "      <td>-0.001440</td>\n",
       "      <td>0.002392</td>\n",
       "      <td>-0.003832</td>\n",
       "    </tr>\n",
       "    <tr>\n",
       "      <th>Profit_low</th>\n",
       "      <td>0.010045</td>\n",
       "      <td>0.008883</td>\n",
       "      <td>0.001162</td>\n",
       "    </tr>\n",
       "    <tr>\n",
       "      <th>Profit_high</th>\n",
       "      <td>0.002373</td>\n",
       "      <td>0.002554</td>\n",
       "      <td>-0.000181</td>\n",
       "    </tr>\n",
       "    <tr>\n",
       "      <th>EPR_low</th>\n",
       "      <td>0.008767</td>\n",
       "      <td>0.009090</td>\n",
       "      <td>-0.000323</td>\n",
       "    </tr>\n",
       "    <tr>\n",
       "      <th>EPR_high</th>\n",
       "      <td>0.001500</td>\n",
       "      <td>0.003020</td>\n",
       "      <td>-0.001520</td>\n",
       "    </tr>\n",
       "  </tbody>\n",
       "</table>\n",
       "</div>"
      ],
      "text/plain": [
       "              Decile1  Decile10  Decile1-Decile10\n",
       "Vol_low      0.006908  0.009140         -0.002231\n",
       "Vol_high     0.001434  0.005790         -0.004355\n",
       "Size_low     0.008316  0.011024         -0.002709\n",
       "Size_high   -0.001440  0.002392         -0.003832\n",
       "Profit_low   0.010045  0.008883          0.001162\n",
       "Profit_high  0.002373  0.002554         -0.000181\n",
       "EPR_low      0.008767  0.009090         -0.000323\n",
       "EPR_high     0.001500  0.003020         -0.001520"
      ]
     },
     "metadata": {},
     "output_type": "display_data"
    }
   ],
   "source": [
    "df_ave_mr=pd.DataFrame(l_ave_mr)\n",
    "df_ave_mr.columns=['Decile1','Decile10']\n",
    "df_ave_mr['Decile1-Decile10']=df_ave_mr['Decile1']-df_ave_mr['Decile10']\n",
    "df_ave_mr.index=index_list\n",
    "print('每个proxy平均月度收益率')\n",
    "display(df_ave_mr)"
   ]
  },
  {
   "cell_type": "markdown",
   "metadata": {},
   "source": [
    "**1.  从Decile1-Decile10可以看出除了profit_low组，其他7个小组都是隔夜收益率高，收益率高**\n",
    "\n",
    "**2.  Decile1-Decile10的差值绝对值在波动率高、市值高、利润低、EPR高的时候较大**\n"
   ]
  },
  {
   "cell_type": "markdown",
   "metadata": {
    "heading_collapsed": true
   },
   "source": [
    "### 样本期间累积收益率"
   ]
  },
  {
   "cell_type": "code",
   "execution_count": 21,
   "metadata": {
    "hidden": true
   },
   "outputs": [],
   "source": [
    "l_cum_mr=[]\n",
    "for i in range(4):\n",
    "    for j in range(2):\n",
    "        a=df_proxy_r[i][j].groupby('Port_Group').apply(com_ret).values\n",
    "        l_cum_mr.append(a)"
   ]
  },
  {
   "cell_type": "code",
   "execution_count": 22,
   "metadata": {
    "hidden": true,
    "scrolled": true
   },
   "outputs": [
    {
     "name": "stdout",
     "output_type": "stream",
     "text": [
      "每个proxy平均月度收益率\n"
     ]
    },
    {
     "data": {
      "text/html": [
       "<div>\n",
       "<style scoped>\n",
       "    .dataframe tbody tr th:only-of-type {\n",
       "        vertical-align: middle;\n",
       "    }\n",
       "\n",
       "    .dataframe tbody tr th {\n",
       "        vertical-align: top;\n",
       "    }\n",
       "\n",
       "    .dataframe thead th {\n",
       "        text-align: right;\n",
       "    }\n",
       "</style>\n",
       "<table border=\"1\" class=\"dataframe\">\n",
       "  <thead>\n",
       "    <tr style=\"text-align: right;\">\n",
       "      <th></th>\n",
       "      <th>Decile1</th>\n",
       "      <th>Decile10</th>\n",
       "      <th>Decile1-Decile10</th>\n",
       "    </tr>\n",
       "  </thead>\n",
       "  <tbody>\n",
       "    <tr>\n",
       "      <th>Vol_low</th>\n",
       "      <td>0.387841</td>\n",
       "      <td>0.942385</td>\n",
       "      <td>-0.554544</td>\n",
       "    </tr>\n",
       "    <tr>\n",
       "      <th>Vol_high</th>\n",
       "      <td>-0.408466</td>\n",
       "      <td>0.096017</td>\n",
       "      <td>-0.504483</td>\n",
       "    </tr>\n",
       "    <tr>\n",
       "      <th>Size_low</th>\n",
       "      <td>0.402850</td>\n",
       "      <td>1.052647</td>\n",
       "      <td>-0.649798</td>\n",
       "    </tr>\n",
       "    <tr>\n",
       "      <th>Size_high</th>\n",
       "      <td>-0.468342</td>\n",
       "      <td>-0.144094</td>\n",
       "      <td>-0.324248</td>\n",
       "    </tr>\n",
       "    <tr>\n",
       "      <th>Profit_low</th>\n",
       "      <td>0.718880</td>\n",
       "      <td>0.622425</td>\n",
       "      <td>0.096455</td>\n",
       "    </tr>\n",
       "    <tr>\n",
       "      <th>Profit_high</th>\n",
       "      <td>-0.196986</td>\n",
       "      <td>-0.116700</td>\n",
       "      <td>-0.080286</td>\n",
       "    </tr>\n",
       "    <tr>\n",
       "      <th>EPR_low</th>\n",
       "      <td>0.477295</td>\n",
       "      <td>0.655909</td>\n",
       "      <td>-0.178615</td>\n",
       "    </tr>\n",
       "    <tr>\n",
       "      <th>EPR_high</th>\n",
       "      <td>-0.234782</td>\n",
       "      <td>-0.054016</td>\n",
       "      <td>-0.180765</td>\n",
       "    </tr>\n",
       "  </tbody>\n",
       "</table>\n",
       "</div>"
      ],
      "text/plain": [
       "              Decile1  Decile10  Decile1-Decile10\n",
       "Vol_low      0.387841  0.942385         -0.554544\n",
       "Vol_high    -0.408466  0.096017         -0.504483\n",
       "Size_low     0.402850  1.052647         -0.649798\n",
       "Size_high   -0.468342 -0.144094         -0.324248\n",
       "Profit_low   0.718880  0.622425          0.096455\n",
       "Profit_high -0.196986 -0.116700         -0.080286\n",
       "EPR_low      0.477295  0.655909         -0.178615\n",
       "EPR_high    -0.234782 -0.054016         -0.180765"
      ]
     },
     "metadata": {},
     "output_type": "display_data"
    }
   ],
   "source": [
    "df_cum_mr=pd.DataFrame(l_cum_mr)\n",
    "df_cum_mr.columns=['Decile1','Decile10']\n",
    "df_cum_mr['Decile1-Decile10']=df_cum_mr['Decile1']-df_cum_mr['Decile10']\n",
    "df_cum_mr.index=index_list\n",
    "print('每个proxy平均月度收益率')\n",
    "display(df_cum_mr)"
   ]
  },
  {
   "cell_type": "markdown",
   "metadata": {
    "hidden": true
   },
   "source": [
    "Vol_low： 波动率"
   ]
  },
  {
   "cell_type": "markdown",
   "metadata": {},
   "source": [
    "### 每年收益率"
   ]
  },
  {
   "cell_type": "code",
   "execution_count": 23,
   "metadata": {},
   "outputs": [],
   "source": [
    "l_ann_mr=[]\n",
    "for i in range(4):\n",
    "    for j in range(2):\n",
    "        a=pd.DataFrame(df_proxy_r[0][1].groupby(['Port_Group',pd.Grouper(key='Date',freq='Y')]).apply(com_ret).reset_index(level=2,drop=True))\n",
    "        l_ann_mr.append(a)"
   ]
  },
  {
   "cell_type": "code",
   "execution_count": 24,
   "metadata": {
    "scrolled": true
   },
   "outputs": [
    {
     "data": {
      "text/html": [
       "<div>\n",
       "<style scoped>\n",
       "    .dataframe tbody tr th:only-of-type {\n",
       "        vertical-align: middle;\n",
       "    }\n",
       "\n",
       "    .dataframe tbody tr th {\n",
       "        vertical-align: top;\n",
       "    }\n",
       "\n",
       "    .dataframe thead th {\n",
       "        text-align: right;\n",
       "    }\n",
       "</style>\n",
       "<table border=\"1\" class=\"dataframe\">\n",
       "  <thead>\n",
       "    <tr style=\"text-align: right;\">\n",
       "      <th></th>\n",
       "      <th></th>\n",
       "      <th>Vol_low</th>\n",
       "      <th>Vol_high</th>\n",
       "      <th>Size_low</th>\n",
       "      <th>Size_high</th>\n",
       "      <th>Profit_low</th>\n",
       "      <th>Profit_high</th>\n",
       "      <th>EPR_low</th>\n",
       "      <th>EPR_high</th>\n",
       "    </tr>\n",
       "    <tr>\n",
       "      <th>Port_Group</th>\n",
       "      <th>Date</th>\n",
       "      <th></th>\n",
       "      <th></th>\n",
       "      <th></th>\n",
       "      <th></th>\n",
       "      <th></th>\n",
       "      <th></th>\n",
       "      <th></th>\n",
       "      <th></th>\n",
       "    </tr>\n",
       "  </thead>\n",
       "  <tbody>\n",
       "    <tr>\n",
       "      <th rowspan=\"11\" valign=\"top\">0</th>\n",
       "      <th>2009-12-31</th>\n",
       "      <td>0.175199</td>\n",
       "      <td>0.175199</td>\n",
       "      <td>0.175199</td>\n",
       "      <td>0.175199</td>\n",
       "      <td>0.175199</td>\n",
       "      <td>0.175199</td>\n",
       "      <td>0.175199</td>\n",
       "      <td>0.175199</td>\n",
       "    </tr>\n",
       "    <tr>\n",
       "      <th>2010-12-31</th>\n",
       "      <td>-0.006633</td>\n",
       "      <td>-0.006633</td>\n",
       "      <td>-0.006633</td>\n",
       "      <td>-0.006633</td>\n",
       "      <td>-0.006633</td>\n",
       "      <td>-0.006633</td>\n",
       "      <td>-0.006633</td>\n",
       "      <td>-0.006633</td>\n",
       "    </tr>\n",
       "    <tr>\n",
       "      <th>2011-12-31</th>\n",
       "      <td>-0.384850</td>\n",
       "      <td>-0.384850</td>\n",
       "      <td>-0.384850</td>\n",
       "      <td>-0.384850</td>\n",
       "      <td>-0.384850</td>\n",
       "      <td>-0.384850</td>\n",
       "      <td>-0.384850</td>\n",
       "      <td>-0.384850</td>\n",
       "    </tr>\n",
       "    <tr>\n",
       "      <th>2012-12-31</th>\n",
       "      <td>-0.043490</td>\n",
       "      <td>-0.043490</td>\n",
       "      <td>-0.043490</td>\n",
       "      <td>-0.043490</td>\n",
       "      <td>-0.043490</td>\n",
       "      <td>-0.043490</td>\n",
       "      <td>-0.043490</td>\n",
       "      <td>-0.043490</td>\n",
       "    </tr>\n",
       "    <tr>\n",
       "      <th>2013-12-31</th>\n",
       "      <td>0.009496</td>\n",
       "      <td>0.009496</td>\n",
       "      <td>0.009496</td>\n",
       "      <td>0.009496</td>\n",
       "      <td>0.009496</td>\n",
       "      <td>0.009496</td>\n",
       "      <td>0.009496</td>\n",
       "      <td>0.009496</td>\n",
       "    </tr>\n",
       "    <tr>\n",
       "      <th>2014-12-31</th>\n",
       "      <td>0.252223</td>\n",
       "      <td>0.252223</td>\n",
       "      <td>0.252223</td>\n",
       "      <td>0.252223</td>\n",
       "      <td>0.252223</td>\n",
       "      <td>0.252223</td>\n",
       "      <td>0.252223</td>\n",
       "      <td>0.252223</td>\n",
       "    </tr>\n",
       "    <tr>\n",
       "      <th>2015-12-31</th>\n",
       "      <td>0.662258</td>\n",
       "      <td>0.662258</td>\n",
       "      <td>0.662258</td>\n",
       "      <td>0.662258</td>\n",
       "      <td>0.662258</td>\n",
       "      <td>0.662258</td>\n",
       "      <td>0.662258</td>\n",
       "      <td>0.662258</td>\n",
       "    </tr>\n",
       "    <tr>\n",
       "      <th>2016-12-31</th>\n",
       "      <td>-0.243586</td>\n",
       "      <td>-0.243586</td>\n",
       "      <td>-0.243586</td>\n",
       "      <td>-0.243586</td>\n",
       "      <td>-0.243586</td>\n",
       "      <td>-0.243586</td>\n",
       "      <td>-0.243586</td>\n",
       "      <td>-0.243586</td>\n",
       "    </tr>\n",
       "    <tr>\n",
       "      <th>2017-12-31</th>\n",
       "      <td>-0.313022</td>\n",
       "      <td>-0.313022</td>\n",
       "      <td>-0.313022</td>\n",
       "      <td>-0.313022</td>\n",
       "      <td>-0.313022</td>\n",
       "      <td>-0.313022</td>\n",
       "      <td>-0.313022</td>\n",
       "      <td>-0.313022</td>\n",
       "    </tr>\n",
       "    <tr>\n",
       "      <th>2018-12-31</th>\n",
       "      <td>-0.416961</td>\n",
       "      <td>-0.416961</td>\n",
       "      <td>-0.416961</td>\n",
       "      <td>-0.416961</td>\n",
       "      <td>-0.416961</td>\n",
       "      <td>-0.416961</td>\n",
       "      <td>-0.416961</td>\n",
       "      <td>-0.416961</td>\n",
       "    </tr>\n",
       "    <tr>\n",
       "      <th>2019-12-31</th>\n",
       "      <td>0.352707</td>\n",
       "      <td>0.352707</td>\n",
       "      <td>0.352707</td>\n",
       "      <td>0.352707</td>\n",
       "      <td>0.352707</td>\n",
       "      <td>0.352707</td>\n",
       "      <td>0.352707</td>\n",
       "      <td>0.352707</td>\n",
       "    </tr>\n",
       "    <tr>\n",
       "      <th rowspan=\"11\" valign=\"top\">9</th>\n",
       "      <th>2009-12-31</th>\n",
       "      <td>0.257383</td>\n",
       "      <td>0.257383</td>\n",
       "      <td>0.257383</td>\n",
       "      <td>0.257383</td>\n",
       "      <td>0.257383</td>\n",
       "      <td>0.257383</td>\n",
       "      <td>0.257383</td>\n",
       "      <td>0.257383</td>\n",
       "    </tr>\n",
       "    <tr>\n",
       "      <th>2010-12-31</th>\n",
       "      <td>0.165402</td>\n",
       "      <td>0.165402</td>\n",
       "      <td>0.165402</td>\n",
       "      <td>0.165402</td>\n",
       "      <td>0.165402</td>\n",
       "      <td>0.165402</td>\n",
       "      <td>0.165402</td>\n",
       "      <td>0.165402</td>\n",
       "    </tr>\n",
       "    <tr>\n",
       "      <th>2011-12-31</th>\n",
       "      <td>-0.338033</td>\n",
       "      <td>-0.338033</td>\n",
       "      <td>-0.338033</td>\n",
       "      <td>-0.338033</td>\n",
       "      <td>-0.338033</td>\n",
       "      <td>-0.338033</td>\n",
       "      <td>-0.338033</td>\n",
       "      <td>-0.338033</td>\n",
       "    </tr>\n",
       "    <tr>\n",
       "      <th>2012-12-31</th>\n",
       "      <td>-0.097942</td>\n",
       "      <td>-0.097942</td>\n",
       "      <td>-0.097942</td>\n",
       "      <td>-0.097942</td>\n",
       "      <td>-0.097942</td>\n",
       "      <td>-0.097942</td>\n",
       "      <td>-0.097942</td>\n",
       "      <td>-0.097942</td>\n",
       "    </tr>\n",
       "    <tr>\n",
       "      <th>2013-12-31</th>\n",
       "      <td>0.238359</td>\n",
       "      <td>0.238359</td>\n",
       "      <td>0.238359</td>\n",
       "      <td>0.238359</td>\n",
       "      <td>0.238359</td>\n",
       "      <td>0.238359</td>\n",
       "      <td>0.238359</td>\n",
       "      <td>0.238359</td>\n",
       "    </tr>\n",
       "    <tr>\n",
       "      <th>2014-12-31</th>\n",
       "      <td>0.255364</td>\n",
       "      <td>0.255364</td>\n",
       "      <td>0.255364</td>\n",
       "      <td>0.255364</td>\n",
       "      <td>0.255364</td>\n",
       "      <td>0.255364</td>\n",
       "      <td>0.255364</td>\n",
       "      <td>0.255364</td>\n",
       "    </tr>\n",
       "    <tr>\n",
       "      <th>2015-12-31</th>\n",
       "      <td>0.791827</td>\n",
       "      <td>0.791827</td>\n",
       "      <td>0.791827</td>\n",
       "      <td>0.791827</td>\n",
       "      <td>0.791827</td>\n",
       "      <td>0.791827</td>\n",
       "      <td>0.791827</td>\n",
       "      <td>0.791827</td>\n",
       "    </tr>\n",
       "    <tr>\n",
       "      <th>2016-12-31</th>\n",
       "      <td>-0.370785</td>\n",
       "      <td>-0.370785</td>\n",
       "      <td>-0.370785</td>\n",
       "      <td>-0.370785</td>\n",
       "      <td>-0.370785</td>\n",
       "      <td>-0.370785</td>\n",
       "      <td>-0.370785</td>\n",
       "      <td>-0.370785</td>\n",
       "    </tr>\n",
       "    <tr>\n",
       "      <th>2017-12-31</th>\n",
       "      <td>-0.222854</td>\n",
       "      <td>-0.222854</td>\n",
       "      <td>-0.222854</td>\n",
       "      <td>-0.222854</td>\n",
       "      <td>-0.222854</td>\n",
       "      <td>-0.222854</td>\n",
       "      <td>-0.222854</td>\n",
       "      <td>-0.222854</td>\n",
       "    </tr>\n",
       "    <tr>\n",
       "      <th>2018-12-31</th>\n",
       "      <td>-0.316322</td>\n",
       "      <td>-0.316322</td>\n",
       "      <td>-0.316322</td>\n",
       "      <td>-0.316322</td>\n",
       "      <td>-0.316322</td>\n",
       "      <td>-0.316322</td>\n",
       "      <td>-0.316322</td>\n",
       "      <td>-0.316322</td>\n",
       "    </tr>\n",
       "    <tr>\n",
       "      <th>2019-12-31</th>\n",
       "      <td>0.345048</td>\n",
       "      <td>0.345048</td>\n",
       "      <td>0.345048</td>\n",
       "      <td>0.345048</td>\n",
       "      <td>0.345048</td>\n",
       "      <td>0.345048</td>\n",
       "      <td>0.345048</td>\n",
       "      <td>0.345048</td>\n",
       "    </tr>\n",
       "  </tbody>\n",
       "</table>\n",
       "</div>"
      ],
      "text/plain": [
       "                        Vol_low  Vol_high  Size_low  Size_high  Profit_low  \\\n",
       "Port_Group Date                                                              \n",
       "0          2009-12-31  0.175199  0.175199  0.175199   0.175199    0.175199   \n",
       "           2010-12-31 -0.006633 -0.006633 -0.006633  -0.006633   -0.006633   \n",
       "           2011-12-31 -0.384850 -0.384850 -0.384850  -0.384850   -0.384850   \n",
       "           2012-12-31 -0.043490 -0.043490 -0.043490  -0.043490   -0.043490   \n",
       "           2013-12-31  0.009496  0.009496  0.009496   0.009496    0.009496   \n",
       "           2014-12-31  0.252223  0.252223  0.252223   0.252223    0.252223   \n",
       "           2015-12-31  0.662258  0.662258  0.662258   0.662258    0.662258   \n",
       "           2016-12-31 -0.243586 -0.243586 -0.243586  -0.243586   -0.243586   \n",
       "           2017-12-31 -0.313022 -0.313022 -0.313022  -0.313022   -0.313022   \n",
       "           2018-12-31 -0.416961 -0.416961 -0.416961  -0.416961   -0.416961   \n",
       "           2019-12-31  0.352707  0.352707  0.352707   0.352707    0.352707   \n",
       "9          2009-12-31  0.257383  0.257383  0.257383   0.257383    0.257383   \n",
       "           2010-12-31  0.165402  0.165402  0.165402   0.165402    0.165402   \n",
       "           2011-12-31 -0.338033 -0.338033 -0.338033  -0.338033   -0.338033   \n",
       "           2012-12-31 -0.097942 -0.097942 -0.097942  -0.097942   -0.097942   \n",
       "           2013-12-31  0.238359  0.238359  0.238359   0.238359    0.238359   \n",
       "           2014-12-31  0.255364  0.255364  0.255364   0.255364    0.255364   \n",
       "           2015-12-31  0.791827  0.791827  0.791827   0.791827    0.791827   \n",
       "           2016-12-31 -0.370785 -0.370785 -0.370785  -0.370785   -0.370785   \n",
       "           2017-12-31 -0.222854 -0.222854 -0.222854  -0.222854   -0.222854   \n",
       "           2018-12-31 -0.316322 -0.316322 -0.316322  -0.316322   -0.316322   \n",
       "           2019-12-31  0.345048  0.345048  0.345048   0.345048    0.345048   \n",
       "\n",
       "                       Profit_high   EPR_low  EPR_high  \n",
       "Port_Group Date                                         \n",
       "0          2009-12-31     0.175199  0.175199  0.175199  \n",
       "           2010-12-31    -0.006633 -0.006633 -0.006633  \n",
       "           2011-12-31    -0.384850 -0.384850 -0.384850  \n",
       "           2012-12-31    -0.043490 -0.043490 -0.043490  \n",
       "           2013-12-31     0.009496  0.009496  0.009496  \n",
       "           2014-12-31     0.252223  0.252223  0.252223  \n",
       "           2015-12-31     0.662258  0.662258  0.662258  \n",
       "           2016-12-31    -0.243586 -0.243586 -0.243586  \n",
       "           2017-12-31    -0.313022 -0.313022 -0.313022  \n",
       "           2018-12-31    -0.416961 -0.416961 -0.416961  \n",
       "           2019-12-31     0.352707  0.352707  0.352707  \n",
       "9          2009-12-31     0.257383  0.257383  0.257383  \n",
       "           2010-12-31     0.165402  0.165402  0.165402  \n",
       "           2011-12-31    -0.338033 -0.338033 -0.338033  \n",
       "           2012-12-31    -0.097942 -0.097942 -0.097942  \n",
       "           2013-12-31     0.238359  0.238359  0.238359  \n",
       "           2014-12-31     0.255364  0.255364  0.255364  \n",
       "           2015-12-31     0.791827  0.791827  0.791827  \n",
       "           2016-12-31    -0.370785 -0.370785 -0.370785  \n",
       "           2017-12-31    -0.222854 -0.222854 -0.222854  \n",
       "           2018-12-31    -0.316322 -0.316322 -0.316322  \n",
       "           2019-12-31     0.345048  0.345048  0.345048  "
      ]
     },
     "execution_count": 24,
     "metadata": {},
     "output_type": "execute_result"
    }
   ],
   "source": [
    "pd_ann_mr=pd.concat(l_ann_mr,axis=1)\n",
    "pd_ann_mr.columns=index_list\n",
    "pd_ann_mr"
   ]
  }
 ],
 "metadata": {
  "hide_input": false,
  "kernelspec": {
   "display_name": "Python 3",
   "language": "python",
   "name": "python3"
  },
  "language_info": {
   "codemirror_mode": {
    "name": "ipython",
    "version": 3
   },
   "file_extension": ".py",
   "mimetype": "text/x-python",
   "name": "python",
   "nbconvert_exporter": "python",
   "pygments_lexer": "ipython3",
   "version": "3.6.8"
  },
  "toc": {
   "base_numbering": 1,
   "nav_menu": {},
   "number_sections": true,
   "sideBar": true,
   "skip_h1_title": false,
   "title_cell": "Table of Contents",
   "title_sidebar": "Contents",
   "toc_cell": false,
   "toc_position": {},
   "toc_section_display": true,
   "toc_window_display": true
  },
  "varInspector": {
   "cols": {
    "lenName": 16,
    "lenType": 16,
    "lenVar": 40
   },
   "kernels_config": {
    "python": {
     "delete_cmd_postfix": "",
     "delete_cmd_prefix": "del ",
     "library": "var_list.py",
     "varRefreshCmd": "print(var_dic_list())"
    },
    "r": {
     "delete_cmd_postfix": ") ",
     "delete_cmd_prefix": "rm(",
     "library": "var_list.r",
     "varRefreshCmd": "cat(var_dic_list()) "
    }
   },
   "types_to_exclude": [
    "module",
    "function",
    "builtin_function_or_method",
    "instance",
    "_Feature"
   ],
   "window_display": false
  }
 },
 "nbformat": 4,
 "nbformat_minor": 2
}
